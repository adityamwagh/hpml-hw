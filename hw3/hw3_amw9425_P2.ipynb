{
 "cells": [
  {
   "cell_type": "code",
   "execution_count": 1,
   "metadata": {},
   "outputs": [],
   "source": [
    "import torch\n",
    "import torch.nn as nn\n",
    "import torch.nn.functional as F\n",
    "import torch.optim as optim\n",
    "from torchvision import datasets, transforms\n",
    "import matplotlib.pyplot as plt\n"
   ]
  },
  {
   "cell_type": "code",
   "execution_count": 2,
   "metadata": {},
   "outputs": [],
   "source": [
    "class LeNet_BatchNorm(nn.Module):\n",
    "    def __init__(self):\n",
    "        \n",
    "        super().__init__()\n",
    "        self.convlayers = nn.Sequential(\n",
    "            nn.Conv2d(in_channels=1, out_channels=6, kernel_size=5, stride=1),\n",
    "            nn.Tanh(),\n",
    "            nn.BatchNorm2d(6),\n",
    "            nn.AvgPool2d(kernel_size=2),\n",
    "            nn.Conv2d(in_channels=6, out_channels=16, kernel_size=5, stride=1),\n",
    "            nn.Tanh(),\n",
    "            nn.BatchNorm2d(16),\n",
    "            nn.AvgPool2d(kernel_size=2),\n",
    "            nn.Conv2d(in_channels=16, out_channels=120, kernel_size=5, stride=1),\n",
    "            nn.Tanh(),\n",
    "            nn.BatchNorm2d(120),\n",
    "        )\n",
    "        self.flatten = nn.Flatten()\n",
    "        self.fc = nn.Sequential(nn.Linear(120, 84), nn.Tanh(), nn.BatchNorm1d(84), nn.Linear(84, 10), nn.Softmax(1))\n",
    "\n",
    "    def forward(self, x):\n",
    "        x = self.convlayers(x)\n",
    "        x = self.flatten(x)\n",
    "        x = self.fc(x)\n",
    "        return x\n"
   ]
  },
  {
   "cell_type": "code",
   "execution_count": 3,
   "metadata": {},
   "outputs": [],
   "source": [
    "class LeNet_InputBatchNorm(nn.Module):\n",
    "    def __init__(self):\n",
    "        \n",
    "        super().__init__()\n",
    "        self.convlayers = nn.Sequential(\n",
    "            nn.BatchNorm2d(1),\n",
    "            nn.Conv2d(in_channels=1, out_channels=6, kernel_size=5, stride=1),\n",
    "            nn.Tanh(),\n",
    "            nn.BatchNorm2d(6),\n",
    "            nn.AvgPool2d(kernel_size=2),\n",
    "            nn.Conv2d(in_channels=6, out_channels=16, kernel_size=5, stride=1),\n",
    "            nn.Tanh(),\n",
    "            nn.BatchNorm2d(16),\n",
    "            nn.AvgPool2d(kernel_size=2),\n",
    "            nn.Conv2d(in_channels=16, out_channels=120, kernel_size=5, stride=1),\n",
    "            nn.Tanh(),\n",
    "            nn.BatchNorm2d(120),\n",
    "        )\n",
    "        self.flatten = nn.Flatten()\n",
    "        self.fc = nn.Sequential(nn.Linear(120, 84), nn.Tanh(), nn.BatchNorm1d(84), nn.Linear(84, 10), nn.Softmax(1))\n",
    "\n",
    "    def forward(self, x):\n",
    "        x = self.convlayers(x)\n",
    "        x = self.flatten(x)\n",
    "        x = self.fc(x)\n",
    "        return x\n"
   ]
  },
  {
   "cell_type": "code",
   "execution_count": 4,
   "metadata": {},
   "outputs": [],
   "source": [
    "class LeNet_Dropout(nn.Module):\n",
    "    def __init__(self):\n",
    "        \n",
    "        super().__init__()\n",
    "        self.convlayers = nn.Sequential(\n",
    "            nn.Dropout(p=0.2),\n",
    "            nn.Conv2d(in_channels=1, out_channels=6, kernel_size=5, stride=1),\n",
    "            nn.Tanh(),\n",
    "            nn.Dropout(p=0.5),\n",
    "            nn.AvgPool2d(kernel_size=2),\n",
    "            nn.Conv2d(in_channels=6, out_channels=16, kernel_size=5, stride=1),\n",
    "            nn.Tanh(),\n",
    "            nn.Dropout(p=0.5),\n",
    "            nn.AvgPool2d(kernel_size=2),\n",
    "            nn.Conv2d(in_channels=16, out_channels=120, kernel_size=5, stride=1),\n",
    "            nn.Tanh(),\n",
    "            nn.Dropout(p=0.5),\n",
    "        )\n",
    "        self.flatten = nn.Flatten()\n",
    "        self.fc = nn.Sequential(nn.Linear(120, 84), nn.Tanh(), nn.Dropout(p=0.5), nn.Linear(84, 10), nn.Softmax(1))\n",
    "\n",
    "    def forward(self, x):\n",
    "        x = self.convlayers(x)\n",
    "        x = self.flatten(x)\n",
    "        x = self.fc(x)\n",
    "        return x\n"
   ]
  },
  {
   "cell_type": "code",
   "execution_count": 5,
   "metadata": {},
   "outputs": [],
   "source": [
    "class LeNet_DropoutBatchNorm(nn.Module):\n",
    "    def __init__(self):\n",
    "        \n",
    "        super().__init__()\n",
    "        self.convlayers = nn.Sequential(\n",
    "            nn.Dropout(p=0.2),\n",
    "            nn.Conv2d(in_channels=1, out_channels=6, kernel_size=5, stride=1),\n",
    "            nn.Tanh(),\n",
    "            nn.BatchNorm2d(6),\n",
    "            nn.Dropout(p=0.5),\n",
    "            nn.AvgPool2d(kernel_size=2),\n",
    "            nn.Conv2d(in_channels=6, out_channels=16, kernel_size=5, stride=1),\n",
    "            nn.Tanh(),\n",
    "            nn.BatchNorm2d(16),\n",
    "            nn.Dropout(p=0.5),\n",
    "            nn.AvgPool2d(kernel_size=2),\n",
    "            nn.Conv2d(in_channels=16, out_channels=120, kernel_size=5, stride=1),\n",
    "            nn.Tanh(),\n",
    "            nn.BatchNorm2d(120),\n",
    "            nn.Dropout(p=0.5),\n",
    "        )\n",
    "        self.flatten = nn.Flatten()\n",
    "        self.fc = nn.Sequential(nn.Linear(120, 84), nn.Tanh(), nn.BatchNorm1d(84), nn.Dropout(p=0.5), nn.Linear(84, 10), nn.Softmax(1))\n",
    "\n",
    "    def forward(self, x):\n",
    "        x = self.convlayers(x)\n",
    "        x = self.flatten(x)\n",
    "        x = self.fc(x)\n",
    "        return x\n"
   ]
  },
  {
   "cell_type": "code",
   "execution_count": 6,
   "metadata": {},
   "outputs": [],
   "source": [
    "def train(model, dataloader, optimizer, device=\"cpu\"):\n",
    "\n",
    "    # store loss & accuracy for each epoch\n",
    "    total_loss = 0.0\n",
    "    total = 0.0\n",
    "    correct = 0.0\n",
    "\n",
    "    model.train()\n",
    "    for images, labels in dataloader:\n",
    "\n",
    "        # send stuff to device\n",
    "        images, labels = images.to(device), labels.to(device)\n",
    "\n",
    "        # forward pass\n",
    "        preds = model(images)\n",
    "\n",
    "        # compute loss\n",
    "        loss = loss_fn(preds, labels)\n",
    "\n",
    "        # gradient descent\n",
    "        optimizer.zero_grad()\n",
    "        loss.backward()\n",
    "        optimizer.step()\n",
    "\n",
    "        # loss and accuracy calculations\n",
    "        total_loss += preds.shape[0] * loss.item()\n",
    "        _, predicted = torch.max(preds.data, 1)\n",
    "        total += labels.size(0)\n",
    "        correct += (predicted == labels).sum().item()\n",
    "\n",
    "    train_loss = total_loss / total\n",
    "    train_accuracy = correct / total\n",
    "\n",
    "    print(f\"[Training] Loss: {train_loss}, Accuracy: {train_accuracy}\")\n",
    "\n",
    "    return train_loss, train_accuracy\n"
   ]
  },
  {
   "cell_type": "code",
   "execution_count": 7,
   "metadata": {},
   "outputs": [],
   "source": [
    "def validate(model, dataloader, device=\"cpu\"):\n",
    "\n",
    "    # store loss & accuracy for each epoch\n",
    "    total_loss = 0.0\n",
    "    total = 0.0\n",
    "    correct = 0.0\n",
    "\n",
    "    model.eval()\n",
    "    with torch.no_grad():\n",
    "        for images, labels in dataloader:\n",
    "\n",
    "            # send stuff to device\n",
    "            images, labels = images.to(device), labels.to(device)\n",
    "\n",
    "            # forward pass\n",
    "            preds = model(images)\n",
    "\n",
    "            # compute loss\n",
    "            loss = loss_fn(preds, labels)\n",
    "\n",
    "            # loss and accuracy calculations\n",
    "            total_loss += preds.shape[0] * loss.item()\n",
    "            _, predicted = torch.max(preds.data, 1)\n",
    "            total += labels.size(0)\n",
    "            correct += (predicted == labels).sum().item()\n",
    "\n",
    "    val_loss = total_loss / total\n",
    "    val_accuracy = correct / total\n",
    "\n",
    "    print(f\"[Validation] Loss: {val_loss}, Accuracy: {val_accuracy}\")\n",
    "\n",
    "    return val_loss, val_accuracy\n"
   ]
  },
  {
   "cell_type": "code",
   "execution_count": 8,
   "metadata": {},
   "outputs": [],
   "source": [
    "batch_size = 128\n",
    "device = \"cuda\" if torch.cuda.is_available() else \"cpu\"\n",
    "epochs = 30\n",
    "loss_fn = nn.CrossEntropyLoss()\n",
    "lr = 0.001"
   ]
  },
  {
   "cell_type": "code",
   "execution_count": 9,
   "metadata": {},
   "outputs": [],
   "source": [
    "# define appropriate transforms for each part\n",
    "p2_transformations = transforms.Compose([transforms.Resize((32, 32)), transforms.ToTensor(), transforms.Normalize(mean=(0.1307,), std=(0.3081,))])\n",
    "p3_transformations = transforms.Compose([transforms.Resize((32, 32)), transforms.ToTensor()])\n",
    "p4_transformations = transforms.Compose([transforms.Resize((32, 32)), transforms.ToTensor(), transforms.Normalize(mean=(0.1307,), std=(0.3081,))])\n",
    "p5_transformations = transforms.Compose([transforms.Resize((32, 32)), transforms.ToTensor(), transforms.Normalize(mean=(0.1307,), std=(0.3081,))])\n"
   ]
  },
  {
   "cell_type": "markdown",
   "metadata": {},
   "source": [
    "#  Part 2"
   ]
  },
  {
   "cell_type": "code",
   "execution_count": 10,
   "metadata": {},
   "outputs": [],
   "source": [
    "train_dataset = datasets.MNIST(root=\"MNIST\", train=True, transform=p2_transformations, download=True)\n",
    "val_dataset = datasets.MNIST(root=\"MNIST\", train=False, transform=p2_transformations, download=True)\n",
    "\n",
    "train_loader = torch.utils.data.DataLoader(dataset=train_dataset, batch_size=batch_size, shuffle=True, num_workers=2)\n",
    "val_loader = torch.utils.data.DataLoader(dataset=val_dataset, batch_size=batch_size, shuffle=True, num_workers=2)\n"
   ]
  },
  {
   "cell_type": "code",
   "execution_count": 11,
   "metadata": {},
   "outputs": [
    {
     "name": "stdout",
     "output_type": "stream",
     "text": [
      "[Training] Epoch: 0\n",
      "[Training] Loss: 2.1912475158691405, Accuracy: 0.3953\n",
      "[Validation] Epoch: 0\n",
      "[Validation] Loss: 2.065171508407593, Accuracy: 0.6163\n",
      "[Training] Epoch: 1\n",
      "[Training] Loss: 1.9882023515701295, Accuracy: 0.67495\n",
      "[Validation] Epoch: 1\n",
      "[Validation] Loss: 1.9151581041336059, Accuracy: 0.739\n",
      "[Training] Epoch: 2\n",
      "[Training] Loss: 1.8809271132787069, Accuracy: 0.75395\n",
      "[Validation] Epoch: 2\n",
      "[Validation] Loss: 1.837309568786621, Accuracy: 0.7941\n",
      "[Training] Epoch: 3\n",
      "[Training] Loss: 1.8198854155858357, Accuracy: 0.7981333333333334\n",
      "[Validation] Epoch: 3\n",
      "[Validation] Loss: 1.786248572731018, Accuracy: 0.8302\n",
      "[Training] Epoch: 4\n",
      "[Training] Loss: 1.7785647509892781, Accuracy: 0.82765\n",
      "[Validation] Epoch: 4\n",
      "[Validation] Loss: 1.7521583787918091, Accuracy: 0.8558\n",
      "[Training] Epoch: 5\n",
      "[Training] Loss: 1.7476040660222372, Accuracy: 0.84695\n",
      "[Validation] Epoch: 5\n",
      "[Validation] Loss: 1.7228047010421752, Accuracy: 0.8701\n",
      "[Training] Epoch: 6\n",
      "[Training] Loss: 1.7231437372843426, Accuracy: 0.8595833333333334\n",
      "[Validation] Epoch: 6\n",
      "[Validation] Loss: 1.6998839052200316, Accuracy: 0.8779\n",
      "[Training] Epoch: 7\n",
      "[Training] Loss: 1.7042205841700235, Accuracy: 0.8677833333333334\n",
      "[Validation] Epoch: 7\n",
      "[Validation] Loss: 1.6850580549240113, Accuracy: 0.8859\n",
      "[Training] Epoch: 8\n",
      "[Training] Loss: 1.6880987298965453, Accuracy: 0.8752333333333333\n",
      "[Validation] Epoch: 8\n",
      "[Validation] Loss: 1.6684742853164674, Accuracy: 0.8934\n",
      "[Training] Epoch: 9\n",
      "[Training] Loss: 1.674829864501953, Accuracy: 0.8824666666666666\n",
      "[Validation] Epoch: 9\n",
      "[Validation] Loss: 1.6569801959991455, Accuracy: 0.8968\n",
      "[Training] Epoch: 10\n",
      "[Training] Loss: 1.663073149617513, Accuracy: 0.8871666666666667\n",
      "[Validation] Epoch: 10\n",
      "[Validation] Loss: 1.64552631855011, Accuracy: 0.901\n",
      "[Training] Epoch: 11\n",
      "[Training] Loss: 1.6523596265157063, Accuracy: 0.8923166666666666\n",
      "[Validation] Epoch: 11\n",
      "[Validation] Loss: 1.6372931039810181, Accuracy: 0.9051\n",
      "[Training] Epoch: 12\n",
      "[Training] Loss: 1.6428901995976766, Accuracy: 0.8971\n",
      "[Validation] Epoch: 12\n",
      "[Validation] Loss: 1.6260915229797364, Accuracy: 0.9096\n",
      "[Training] Epoch: 13\n",
      "[Training] Loss: 1.6342646522521973, Accuracy: 0.9022833333333333\n",
      "[Validation] Epoch: 13\n",
      "[Validation] Loss: 1.6194824495315552, Accuracy: 0.9131\n",
      "[Training] Epoch: 14\n",
      "[Training] Loss: 1.6261737953821818, Accuracy: 0.9061333333333333\n",
      "[Validation] Epoch: 14\n",
      "[Validation] Loss: 1.6111973361968994, Accuracy: 0.9172\n",
      "[Training] Epoch: 15\n",
      "[Training] Loss: 1.618430261739095, Accuracy: 0.91115\n",
      "[Validation] Epoch: 15\n",
      "[Validation] Loss: 1.604362281036377, Accuracy: 0.9216\n",
      "[Training] Epoch: 16\n",
      "[Training] Loss: 1.6116327496846516, Accuracy: 0.9144666666666666\n",
      "[Validation] Epoch: 16\n",
      "[Validation] Loss: 1.5985022932052613, Accuracy: 0.9245\n",
      "[Training] Epoch: 17\n",
      "[Training] Loss: 1.6054447495142619, Accuracy: 0.9176666666666666\n",
      "[Validation] Epoch: 17\n",
      "[Validation] Loss: 1.5929259450912476, Accuracy: 0.9268\n",
      "[Training] Epoch: 18\n",
      "[Training] Loss: 1.5992895535786946, Accuracy: 0.9208\n",
      "[Validation] Epoch: 18\n",
      "[Validation] Loss: 1.5866082159042358, Accuracy: 0.9301\n",
      "[Training] Epoch: 19\n",
      "[Training] Loss: 1.5938480990727744, Accuracy: 0.9237833333333333\n",
      "[Validation] Epoch: 19\n",
      "[Validation] Loss: 1.581506903076172, Accuracy: 0.9334\n",
      "[Training] Epoch: 20\n",
      "[Training] Loss: 1.5885925667444865, Accuracy: 0.9266\n",
      "[Validation] Epoch: 20\n",
      "[Validation] Loss: 1.5768849655151367, Accuracy: 0.9348\n",
      "[Training] Epoch: 21\n",
      "[Training] Loss: 1.5836756400426228, Accuracy: 0.9294833333333333\n",
      "[Validation] Epoch: 21\n",
      "[Validation] Loss: 1.57308733959198, Accuracy: 0.9377\n",
      "[Training] Epoch: 22\n",
      "[Training] Loss: 1.5791396370569866, Accuracy: 0.9320166666666667\n",
      "[Validation] Epoch: 22\n",
      "[Validation] Loss: 1.5684802459716798, Accuracy: 0.9393\n",
      "[Training] Epoch: 23\n",
      "[Training] Loss: 1.574628309059143, Accuracy: 0.9346666666666666\n",
      "[Validation] Epoch: 23\n",
      "[Validation] Loss: 1.5639846725463866, Accuracy: 0.9412\n",
      "[Training] Epoch: 24\n",
      "[Training] Loss: 1.5706965237299602, Accuracy: 0.9371166666666667\n",
      "[Validation] Epoch: 24\n",
      "[Validation] Loss: 1.5609993907928468, Accuracy: 0.9441\n",
      "[Training] Epoch: 25\n",
      "[Training] Loss: 1.566787206840515, Accuracy: 0.9387833333333333\n",
      "[Validation] Epoch: 25\n",
      "[Validation] Loss: 1.5570148576736451, Accuracy: 0.9455\n",
      "[Training] Epoch: 26\n",
      "[Training] Loss: 1.563434336344401, Accuracy: 0.9408\n",
      "[Validation] Epoch: 26\n",
      "[Validation] Loss: 1.5542443952560425, Accuracy: 0.9467\n",
      "[Training] Epoch: 27\n",
      "[Training] Loss: 1.5596149660746257, Accuracy: 0.9438333333333333\n",
      "[Validation] Epoch: 27\n",
      "[Validation] Loss: 1.5512453256607055, Accuracy: 0.9486\n",
      "[Training] Epoch: 28\n",
      "[Training] Loss: 1.5564862939834594, Accuracy: 0.9457666666666666\n",
      "[Validation] Epoch: 28\n",
      "[Validation] Loss: 1.5482460134506226, Accuracy: 0.9494\n",
      "[Training] Epoch: 29\n",
      "[Training] Loss: 1.5537244287490846, Accuracy: 0.9470333333333333\n",
      "[Validation] Epoch: 29\n",
      "[Validation] Loss: 1.545128034591675, Accuracy: 0.9522\n"
     ]
    }
   ],
   "source": [
    "p2_train_loss = []\n",
    "p2_validation_loss = []\n",
    "p2_train_accuracy = []\n",
    "p2_validation_accuracy = []\n",
    "\n",
    "model = LeNet_BatchNorm().to(device)\n",
    "optimizer = optim.SGD(model.parameters(), lr=lr)\n",
    "\n",
    "\n",
    "for epoch in range(epochs):\n",
    "\n",
    "    # Training Phase\n",
    "    print(f\"[Training] Epoch: {epoch}\")\n",
    "    train_loss, train_acc = train(model, train_loader, optimizer, device)\n",
    "    \n",
    "    # Validation Phase\n",
    "    print(f\"[Validation] Epoch: {epoch}\")\n",
    "    val_loss, val_acc = validate(model, val_loader, device)\n",
    "\n",
    "    p2_train_loss.append(train_loss)\n",
    "    p2_validation_loss.append(val_loss)\n",
    "    p2_train_accuracy.append(train_acc)\n",
    "    p2_validation_accuracy.append(val_acc)\n"
   ]
  },
  {
   "cell_type": "code",
   "execution_count": 12,
   "metadata": {},
   "outputs": [
    {
     "name": "stdout",
     "output_type": "stream",
     "text": [
      "LeNet_BatchNorm(\n",
      "  (convlayers): Sequential(\n",
      "    (0): Conv2d(1, 6, kernel_size=(5, 5), stride=(1, 1))\n",
      "    (1): Tanh()\n",
      "    (2): BatchNorm2d(6, eps=1e-05, momentum=0.1, affine=True, track_running_stats=True)\n",
      "    (3): AvgPool2d(kernel_size=2, stride=2, padding=0)\n",
      "    (4): Conv2d(6, 16, kernel_size=(5, 5), stride=(1, 1))\n",
      "    (5): Tanh()\n",
      "    (6): BatchNorm2d(16, eps=1e-05, momentum=0.1, affine=True, track_running_stats=True)\n",
      "    (7): AvgPool2d(kernel_size=2, stride=2, padding=0)\n",
      "    (8): Conv2d(16, 120, kernel_size=(5, 5), stride=(1, 1))\n",
      "    (9): Tanh()\n",
      "    (10): BatchNorm2d(120, eps=1e-05, momentum=0.1, affine=True, track_running_stats=True)\n",
      "  )\n",
      "  (flatten): Flatten(start_dim=1, end_dim=-1)\n",
      "  (fc): Sequential(\n",
      "    (0): Linear(in_features=120, out_features=84, bias=True)\n",
      "    (1): Tanh()\n",
      "    (2): BatchNorm1d(84, eps=1e-05, momentum=0.1, affine=True, track_running_stats=True)\n",
      "    (3): Linear(in_features=84, out_features=10, bias=True)\n",
      "    (4): Softmax(dim=1)\n",
      "  )\n",
      ")\n"
     ]
    }
   ],
   "source": [
    "print(model)"
   ]
  },
  {
   "cell_type": "code",
   "execution_count": 13,
   "metadata": {},
   "outputs": [],
   "source": [
    "bn_weights = [\n",
    "    model.convlayers[2].weight.cpu().detach().numpy(),\n",
    "    model.convlayers[6].weight.cpu().detach().numpy(),\n",
    "    model.convlayers[10].weight.cpu().detach().numpy(),\n",
    "    model.fc[2].weight.cpu().detach().numpy(),\n",
    "]\n",
    "\n",
    "bn_bias = [\n",
    "    model.convlayers[2].bias.cpu().detach().numpy(),\n",
    "    model.convlayers[6].bias.cpu().detach().numpy(),\n",
    "    model.convlayers[10].bias.cpu().detach().numpy(),\n",
    "    model.fc[2].bias.cpu().detach().numpy(),\n",
    "]"
   ]
  },
  {
   "cell_type": "code",
   "execution_count": 14,
   "metadata": {},
   "outputs": [
    {
     "data": {
      "image/png": "[encoded data removed]",
      "text/plain": [
       "<Figure size 432x288 with 1 Axes>"
      ]
     },
     "metadata": {
      "needs_background": "light"
     },
     "output_type": "display_data"
    }
   ],
   "source": [
    "# violin plot for weights & biases\n",
    "fig = plt.figure()\n",
    "ax = fig.add_axes([0,0,1,1])\n",
    "gamma = ax.violinplot(bn_weights)\n",
    "\n",
    "plt.title(\"Violin Plot for Gamma\")\n",
    "plt.xlabel(\"Batchnorm Layer Number\")\n",
    "plt.show()"
   ]
  },
  {
   "cell_type": "code",
   "execution_count": 15,
   "metadata": {},
   "outputs": [
    {
     "data": {
      "image/png": "[encoded data removed]",
      "text/plain": [
       "<Figure size 432x288 with 1 Axes>"
      ]
     },
     "metadata": {
      "needs_background": "light"
     },
     "output_type": "display_data"
    }
   ],
   "source": [
    "fig = plt.figure()\n",
    "ax = fig.add_axes([0,0,1,1])\n",
    "beta = ax.violinplot(bn_bias)\n",
    "plt.title(\"Violin Plot for Beta\")\n",
    "plt.xlabel(\"Batchnorm Layer Number\")\n",
    "plt.show()"
   ]
  },
  {
   "cell_type": "markdown",
   "metadata": {},
   "source": [
    "# Part 3"
   ]
  },
  {
   "cell_type": "code",
   "execution_count": 16,
   "metadata": {},
   "outputs": [],
   "source": [
    "train_dataset = datasets.MNIST(root=\"MNIST\", train=True, transform=p3_transformations, download=True)\n",
    "val_dataset = datasets.MNIST(root=\"MNIST\", train=False, transform=p3_transformations, download=True)\n",
    "\n",
    "train_loader = torch.utils.data.DataLoader(dataset=train_dataset, batch_size=batch_size, shuffle=True, num_workers=2)\n",
    "val_loader = torch.utils.data.DataLoader(dataset=val_dataset, batch_size=batch_size, shuffle=True, num_workers=2)\n"
   ]
  },
  {
   "cell_type": "code",
   "execution_count": 17,
   "metadata": {},
   "outputs": [
    {
     "name": "stdout",
     "output_type": "stream",
     "text": [
      "[Training] Epoch: 0\n",
      "[Training] Loss: 2.2285560817718504, Accuracy: 0.33818333333333334\n",
      "[Validation] Epoch: 0\n",
      "[Validation] Loss: 2.1051172817230226, Accuracy: 0.6011\n",
      "[Training] Epoch: 1\n",
      "[Training] Loss: 2.019188095156352, Accuracy: 0.6545333333333333\n",
      "[Validation] Epoch: 1\n",
      "[Validation] Loss: 1.940099024772644, Accuracy: 0.7247\n",
      "[Training] Epoch: 2\n",
      "[Training] Loss: 1.9020155936559042, Accuracy: 0.7514833333333333\n",
      "[Validation] Epoch: 2\n",
      "[Validation] Loss: 1.8479010778427123, Accuracy: 0.807\n",
      "[Training] Epoch: 3\n",
      "[Training] Loss: 1.8282332965215047, Accuracy: 0.8113166666666667\n",
      "[Validation] Epoch: 3\n",
      "[Validation] Loss: 1.7865811912536622, Accuracy: 0.8431\n",
      "[Training] Epoch: 4\n",
      "[Training] Loss: 1.775987910525004, Accuracy: 0.8421\n",
      "[Validation] Epoch: 4\n",
      "[Validation] Loss: 1.741912486076355, Accuracy: 0.8683\n",
      "[Training] Epoch: 5\n",
      "[Training] Loss: 1.7378272122701008, Accuracy: 0.8626166666666667\n",
      "[Validation] Epoch: 5\n",
      "[Validation] Loss: 1.7060187353134155, Accuracy: 0.8855\n",
      "[Training] Epoch: 6\n",
      "[Training] Loss: 1.708073325284322, Accuracy: 0.8770333333333333\n",
      "[Validation] Epoch: 6\n",
      "[Validation] Loss: 1.6803263139724731, Accuracy: 0.8967\n",
      "[Training] Epoch: 7\n",
      "[Training] Loss: 1.6847390531539916, Accuracy: 0.8893\n",
      "[Validation] Epoch: 7\n",
      "[Validation] Loss: 1.6607823324203492, Accuracy: 0.9056\n",
      "[Training] Epoch: 8\n",
      "[Training] Loss: 1.6650986358642579, Accuracy: 0.8987833333333334\n",
      "[Validation] Epoch: 8\n",
      "[Validation] Loss: 1.6424233623504638, Accuracy: 0.9152\n",
      "[Training] Epoch: 9\n",
      "[Training] Loss: 1.6482163060506185, Accuracy: 0.9073166666666667\n",
      "[Validation] Epoch: 9\n",
      "[Validation] Loss: 1.6260699602127076, Accuracy: 0.9223\n",
      "[Training] Epoch: 10\n",
      "[Training] Loss: 1.6339713523228963, Accuracy: 0.91435\n",
      "[Validation] Epoch: 10\n",
      "[Validation] Loss: 1.6133574537277222, Accuracy: 0.9281\n",
      "[Training] Epoch: 11\n",
      "[Training] Loss: 1.6217829475402832, Accuracy: 0.92045\n",
      "[Validation] Epoch: 11\n",
      "[Validation] Loss: 1.6029803617477416, Accuracy: 0.9334\n",
      "[Training] Epoch: 12\n",
      "[Training] Loss: 1.6108098616917927, Accuracy: 0.9259\n",
      "[Validation] Epoch: 12\n",
      "[Validation] Loss: 1.594371022415161, Accuracy: 0.9377\n",
      "[Training] Epoch: 13\n",
      "[Training] Loss: 1.6011552505493165, Accuracy: 0.9312166666666667\n",
      "[Validation] Epoch: 13\n",
      "[Validation] Loss: 1.5845994606018066, Accuracy: 0.942\n",
      "[Training] Epoch: 14\n",
      "[Training] Loss: 1.5924771591186524, Accuracy: 0.9359166666666666\n",
      "[Validation] Epoch: 14\n",
      "[Validation] Loss: 1.5772014347076415, Accuracy: 0.9448\n",
      "[Training] Epoch: 15\n",
      "[Training] Loss: 1.5851048897425333, Accuracy: 0.9389666666666666\n",
      "[Validation] Epoch: 15\n",
      "[Validation] Loss: 1.5697818466186524, Accuracy: 0.9484\n",
      "[Training] Epoch: 16\n",
      "[Training] Loss: 1.5784477883021037, Accuracy: 0.9429333333333333\n",
      "[Validation] Epoch: 16\n",
      "[Validation] Loss: 1.5644888862609863, Accuracy: 0.9514\n",
      "[Training] Epoch: 17\n",
      "[Training] Loss: 1.5725143637975056, Accuracy: 0.9452666666666667\n",
      "[Validation] Epoch: 17\n",
      "[Validation] Loss: 1.5599285982131958, Accuracy: 0.9523\n",
      "[Training] Epoch: 18\n",
      "[Training] Loss: 1.5674664123535156, Accuracy: 0.9469666666666666\n",
      "[Validation] Epoch: 18\n",
      "[Validation] Loss: 1.5548389099121094, Accuracy: 0.9552\n",
      "[Training] Epoch: 19\n",
      "[Training] Loss: 1.5626881438573201, Accuracy: 0.9493333333333334\n",
      "[Validation] Epoch: 19\n",
      "[Validation] Loss: 1.5509195482254028, Accuracy: 0.9575\n",
      "[Training] Epoch: 20\n",
      "[Training] Loss: 1.5583004073460898, Accuracy: 0.9523333333333334\n",
      "[Validation] Epoch: 20\n",
      "[Validation] Loss: 1.5471707365036012, Accuracy: 0.9583\n",
      "[Training] Epoch: 21\n",
      "[Training] Loss: 1.5544998238245646, Accuracy: 0.9543166666666667\n",
      "[Validation] Epoch: 21\n",
      "[Validation] Loss: 1.5431285129547119, Accuracy: 0.96\n",
      "[Training] Epoch: 22\n",
      "[Training] Loss: 1.5509213145573935, Accuracy: 0.9553\n",
      "[Validation] Epoch: 22\n",
      "[Validation] Loss: 1.5405869701385497, Accuracy: 0.9618\n",
      "[Training] Epoch: 23\n",
      "[Training] Loss: 1.5477218807856241, Accuracy: 0.9561666666666667\n",
      "[Validation] Epoch: 23\n",
      "[Validation] Loss: 1.5377979719161987, Accuracy: 0.9623\n",
      "[Training] Epoch: 24\n",
      "[Training] Loss: 1.5451308197657267, Accuracy: 0.9576\n",
      "[Validation] Epoch: 24\n",
      "[Validation] Loss: 1.5353617416381835, Accuracy: 0.9631\n",
      "[Training] Epoch: 25\n",
      "[Training] Loss: 1.5422302663167318, Accuracy: 0.9598166666666667\n",
      "[Validation] Epoch: 25\n",
      "[Validation] Loss: 1.5327920482635498, Accuracy: 0.9642\n",
      "[Training] Epoch: 26\n",
      "[Training] Loss: 1.5396702208836874, Accuracy: 0.9604833333333334\n",
      "[Validation] Epoch: 26\n",
      "[Validation] Loss: 1.5312351764678955, Accuracy: 0.9654\n",
      "[Training] Epoch: 27\n",
      "[Training] Loss: 1.5372000511169435, Accuracy: 0.9621666666666666\n",
      "[Validation] Epoch: 27\n",
      "[Validation] Loss: 1.5285953443527223, Accuracy: 0.9663\n",
      "[Training] Epoch: 28\n",
      "[Training] Loss: 1.5352432073593139, Accuracy: 0.9632333333333334\n",
      "[Validation] Epoch: 28\n",
      "[Validation] Loss: 1.5264297937393188, Accuracy: 0.967\n",
      "[Training] Epoch: 29\n",
      "[Training] Loss: 1.5332554056803385, Accuracy: 0.9635\n",
      "[Validation] Epoch: 29\n",
      "[Validation] Loss: 1.5251147275924684, Accuracy: 0.967\n"
     ]
    }
   ],
   "source": [
    "p3_train_loss = []\n",
    "p3_validation_loss = []\n",
    "p3_train_accuracy = []\n",
    "p3_validation_accuracy = []\n",
    "\n",
    "model = LeNet_InputBatchNorm().to(device)\n",
    "optimizer = optim.SGD(model.parameters(), lr=lr)\n",
    "\n",
    "\n",
    "for epoch in range(epochs):\n",
    "\n",
    "    # Training Phase\n",
    "    print(f\"[Training] Epoch: {epoch}\")\n",
    "    train_loss, train_acc = train(model, train_loader, optimizer, device)\n",
    "\n",
    "    # Validation Phase\n",
    "    print(f\"[Validation] Epoch: {epoch}\")\n",
    "    val_loss, val_acc = validate(model, val_loader, device)\n",
    "\n",
    "    p3_train_loss.append(train_loss)\n",
    "    p3_validation_loss.append(val_loss)\n",
    "    p3_train_accuracy.append(train_acc)\n",
    "    p3_validation_accuracy.append(val_acc)\n"
   ]
  },
  {
   "cell_type": "code",
   "execution_count": 18,
   "metadata": {},
   "outputs": [
    {
     "name": "stdout",
     "output_type": "stream",
     "text": [
      "LeNet_InputBatchNorm(\n",
      "  (convlayers): Sequential(\n",
      "    (0): BatchNorm2d(1, eps=1e-05, momentum=0.1, affine=True, track_running_stats=True)\n",
      "    (1): Conv2d(1, 6, kernel_size=(5, 5), stride=(1, 1))\n",
      "    (2): Tanh()\n",
      "    (3): BatchNorm2d(6, eps=1e-05, momentum=0.1, affine=True, track_running_stats=True)\n",
      "    (4): AvgPool2d(kernel_size=2, stride=2, padding=0)\n",
      "    (5): Conv2d(6, 16, kernel_size=(5, 5), stride=(1, 1))\n",
      "    (6): Tanh()\n",
      "    (7): BatchNorm2d(16, eps=1e-05, momentum=0.1, affine=True, track_running_stats=True)\n",
      "    (8): AvgPool2d(kernel_size=2, stride=2, padding=0)\n",
      "    (9): Conv2d(16, 120, kernel_size=(5, 5), stride=(1, 1))\n",
      "    (10): Tanh()\n",
      "    (11): BatchNorm2d(120, eps=1e-05, momentum=0.1, affine=True, track_running_stats=True)\n",
      "  )\n",
      "  (flatten): Flatten(start_dim=1, end_dim=-1)\n",
      "  (fc): Sequential(\n",
      "    (0): Linear(in_features=120, out_features=84, bias=True)\n",
      "    (1): Tanh()\n",
      "    (2): BatchNorm1d(84, eps=1e-05, momentum=0.1, affine=True, track_running_stats=True)\n",
      "    (3): Linear(in_features=84, out_features=10, bias=True)\n",
      "    (4): Softmax(dim=1)\n",
      "  )\n",
      ")\n"
     ]
    }
   ],
   "source": [
    "print(model)"
   ]
  },
  {
   "cell_type": "code",
   "execution_count": 19,
   "metadata": {},
   "outputs": [],
   "source": [
    "bn_weights = [\n",
    "    model.convlayers[0].weight.cpu().detach().numpy(),\n",
    "    model.convlayers[3].weight.cpu().detach().numpy(),\n",
    "    model.convlayers[7].weight.cpu().detach().numpy(),\n",
    "    model.convlayers[11].weight.cpu().detach().numpy(),\n",
    "    model.fc[2].weight.cpu().detach().numpy(),\n",
    "]\n",
    "\n",
    "bn_bias = [\n",
    "    model.convlayers[0].weight.cpu().detach().numpy(),\n",
    "    model.convlayers[3].bias.cpu().detach().numpy(),\n",
    "    model.convlayers[7].bias.cpu().detach().numpy(),\n",
    "    model.convlayers[11].bias.cpu().detach().numpy(),\n",
    "    model.fc[2].bias.cpu().detach().numpy(),\n",
    "]"
   ]
  },
  {
   "cell_type": "code",
   "execution_count": 20,
   "metadata": {},
   "outputs": [
    {
     "data": {
      "image/png": "[encoded data removed]",
      "text/plain": [
       "<Figure size 432x288 with 1 Axes>"
      ]
     },
     "metadata": {
      "needs_background": "light"
     },
     "output_type": "display_data"
    }
   ],
   "source": [
    "# violin plot for weights & biases\n",
    "fig = plt.figure()\n",
    "ax = fig.add_axes([0,0,1,1])\n",
    "gamma = ax.violinplot(bn_weights)\n",
    "\n",
    "plt.title(\"Violin Plot for Gamma\")\n",
    "plt.xlabel(\"Batchnorm Layer Number\")\n",
    "plt.show()"
   ]
  },
  {
   "cell_type": "code",
   "execution_count": 21,
   "metadata": {},
   "outputs": [
    {
     "data": {
      "image/png": "[encoded data removed]",
      "text/plain": [
       "<Figure size 432x288 with 1 Axes>"
      ]
     },
     "metadata": {
      "needs_background": "light"
     },
     "output_type": "display_data"
    }
   ],
   "source": [
    "fig = plt.figure()\n",
    "ax = fig.add_axes([0,0,1,1])\n",
    "beta = ax.violinplot(bn_bias)\n",
    "plt.title(\"Violin Plot for Beta\")\n",
    "plt.xlabel(\"Batchnorm Layer Number\")\n",
    "plt.show()"
   ]
  },
  {
   "cell_type": "code",
   "execution_count": 22,
   "metadata": {},
   "outputs": [
    {
     "data": {
      "text/plain": [
       "<matplotlib.legend.Legend at 0x15322d6b4f70>"
      ]
     },
     "execution_count": 22,
     "metadata": {},
     "output_type": "execute_result"
    },
    {
     "data": {
      "image/png": "[encoded data removed]",
      "text/plain": [
       "<Figure size 432x288 with 1 Axes>"
      ]
     },
     "metadata": {
      "needs_background": "light"
     },
     "output_type": "display_data"
    }
   ],
   "source": [
    "plt.title(\"Input Standard Norm vs Input Batch Norm\")\n",
    "plt.ylabel(\"Training Accuracy\")\n",
    "plt.xlabel(\"Epochs\")\n",
    "\n",
    "plt.plot(range(1, epochs+1), p2_train_accuracy, label=\"Input Standard Norm\")\n",
    "plt.plot(range(1, epochs+1), p3_train_accuracy, label=\"Input Batch Norm\")\n",
    "plt.legend()"
   ]
  },
  {
   "cell_type": "code",
   "execution_count": 23,
   "metadata": {},
   "outputs": [
    {
     "data": {
      "text/plain": [
       "<matplotlib.legend.Legend at 0x15322d1eceb0>"
      ]
     },
     "execution_count": 23,
     "metadata": {},
     "output_type": "execute_result"
    },
    {
     "data": {
      "image/png": "[encoded data removed]",
      "text/plain": [
       "<Figure size 432x288 with 1 Axes>"
      ]
     },
     "metadata": {
      "needs_background": "light"
     },
     "output_type": "display_data"
    }
   ],
   "source": [
    "plt.title(\"Input Batch Norm vs Input Standard Norm\")\n",
    "plt.ylabel(\"Validation Accuracy\")\n",
    "plt.xlabel(\"Epochs\")\n",
    "\n",
    "plt.plot(range(1, epochs+1), p2_validation_accuracy, label=\"Input Standard Norm\")\n",
    "plt.plot(range(1, epochs+1), p3_validation_accuracy, label=\"Input Batch Norm\")\n",
    "\n",
    "plt.legend()"
   ]
  },
  {
   "cell_type": "markdown",
   "metadata": {},
   "source": [
    "# Part 4"
   ]
  },
  {
   "cell_type": "code",
   "execution_count": 24,
   "metadata": {},
   "outputs": [],
   "source": [
    "train_dataset = datasets.MNIST(root=\"MNIST\", train=True, transform=p4_transformations, download=True)\n",
    "val_dataset = datasets.MNIST(root=\"MNIST\", train=False, transform=p4_transformations, download=True)\n",
    "\n",
    "train_loader = torch.utils.data.DataLoader(dataset=train_dataset, batch_size=batch_size, shuffle=True, num_workers=2)\n",
    "val_loader = torch.utils.data.DataLoader(dataset=val_dataset, batch_size=batch_size, shuffle=True, num_workers=2)\n"
   ]
  },
  {
   "cell_type": "code",
   "execution_count": 25,
   "metadata": {},
   "outputs": [
    {
     "name": "stdout",
     "output_type": "stream",
     "text": [
      "[Training] Epoch: 0\n",
      "[Training] Loss: 2.3023909056345624, Accuracy: 0.10571666666666667\n",
      "[Validation] Epoch: 0\n",
      "[Validation] Loss: 2.3021227882385253, Accuracy: 0.1051\n",
      "[Training] Epoch: 1\n",
      "[Training] Loss: 2.302122416941325, Accuracy: 0.11133333333333334\n",
      "[Validation] Epoch: 1\n",
      "[Validation] Loss: 2.3018608699798584, Accuracy: 0.1106\n",
      "[Training] Epoch: 2\n",
      "[Training] Loss: 2.301886088180542, Accuracy: 0.11466666666666667\n",
      "[Validation] Epoch: 2\n",
      "[Validation] Loss: 2.3015948848724364, Accuracy: 0.1174\n",
      "[Training] Epoch: 3\n",
      "[Training] Loss: 2.3015485928853354, Accuracy: 0.12081666666666667\n",
      "[Validation] Epoch: 3\n",
      "[Validation] Loss: 2.301323781967163, Accuracy: 0.1277\n",
      "[Training] Epoch: 4\n",
      "[Training] Loss: 2.3013913138071698, Accuracy: 0.12281666666666667\n",
      "[Validation] Epoch: 4\n",
      "[Validation] Loss: 2.301049450302124, Accuracy: 0.1376\n",
      "[Training] Epoch: 5\n",
      "[Training] Loss: 2.301148839441935, Accuracy: 0.12786666666666666\n",
      "[Validation] Epoch: 5\n",
      "[Validation] Loss: 2.300767194747925, Accuracy: 0.1472\n",
      "[Training] Epoch: 6\n",
      "[Training] Loss: 2.3009099608103436, Accuracy: 0.13086666666666666\n",
      "[Validation] Epoch: 6\n",
      "[Validation] Loss: 2.3004787357330323, Accuracy: 0.1569\n",
      "[Training] Epoch: 7\n",
      "[Training] Loss: 2.30060166460673, Accuracy: 0.13723333333333335\n",
      "[Validation] Epoch: 7\n",
      "[Validation] Loss: 2.300180690765381, Accuracy: 0.1656\n",
      "[Training] Epoch: 8\n",
      "[Training] Loss: 2.3003844785054524, Accuracy: 0.14273333333333332\n",
      "[Validation] Epoch: 8\n",
      "[Validation] Loss: 2.2998740886688234, Accuracy: 0.1727\n",
      "[Training] Epoch: 9\n",
      "[Training] Loss: 2.300061726633708, Accuracy: 0.14715\n",
      "[Validation] Epoch: 9\n",
      "[Validation] Loss: 2.299555926513672, Accuracy: 0.1814\n",
      "[Training] Epoch: 10\n",
      "[Training] Loss: 2.2998032691955568, Accuracy: 0.15438333333333334\n",
      "[Validation] Epoch: 10\n",
      "[Validation] Loss: 2.299225947570801, Accuracy: 0.1871\n",
      "[Training] Epoch: 11\n",
      "[Training] Loss: 2.299451965332031, Accuracy: 0.1612\n",
      "[Validation] Epoch: 11\n",
      "[Validation] Loss: 2.2988797485351564, Accuracy: 0.1933\n",
      "[Training] Epoch: 12\n",
      "[Training] Loss: 2.2991003964742025, Accuracy: 0.1676\n",
      "[Validation] Epoch: 12\n",
      "[Validation] Loss: 2.2985187084197998, Accuracy: 0.2009\n",
      "[Training] Epoch: 13\n",
      "[Training] Loss: 2.2987704498291017, Accuracy: 0.1725\n",
      "[Validation] Epoch: 13\n",
      "[Validation] Loss: 2.2981389129638674, Accuracy: 0.2086\n",
      "[Training] Epoch: 14\n",
      "[Training] Loss: 2.298490056228638, Accuracy: 0.17901666666666666\n",
      "[Validation] Epoch: 14\n",
      "[Validation] Loss: 2.297739779663086, Accuracy: 0.219\n",
      "[Training] Epoch: 15\n",
      "[Training] Loss: 2.2980843753814697, Accuracy: 0.18718333333333334\n",
      "[Validation] Epoch: 15\n",
      "[Validation] Loss: 2.2973216720581053, Accuracy: 0.2271\n",
      "[Training] Epoch: 16\n",
      "[Training] Loss: 2.2977921582539875, Accuracy: 0.19186666666666666\n",
      "[Validation] Epoch: 16\n",
      "[Validation] Loss: 2.2968795639038087, Accuracy: 0.2368\n",
      "[Training] Epoch: 17\n",
      "[Training] Loss: 2.297289387512207, Accuracy: 0.2003\n",
      "[Validation] Epoch: 17\n",
      "[Validation] Loss: 2.2964106708526613, Accuracy: 0.2478\n",
      "[Training] Epoch: 18\n",
      "[Training] Loss: 2.296918511835734, Accuracy: 0.20643333333333333\n",
      "[Validation] Epoch: 18\n",
      "[Validation] Loss: 2.2959108711242675, Accuracy: 0.261\n",
      "[Training] Epoch: 19\n",
      "[Training] Loss: 2.296433313624064, Accuracy: 0.21528333333333333\n",
      "[Validation] Epoch: 19\n",
      "[Validation] Loss: 2.2953761669158936, Accuracy: 0.2746\n",
      "[Training] Epoch: 20\n",
      "[Training] Loss: 2.295883255259196, Accuracy: 0.22403333333333333\n",
      "[Validation] Epoch: 20\n",
      "[Validation] Loss: 2.2948000049591064, Accuracy: 0.2875\n",
      "[Training] Epoch: 21\n",
      "[Training] Loss: 2.295270438639323, Accuracy: 0.23193333333333332\n",
      "[Validation] Epoch: 21\n",
      "[Validation] Loss: 2.294181297683716, Accuracy: 0.3023\n",
      "[Training] Epoch: 22\n",
      "[Training] Loss: 2.29476986134847, Accuracy: 0.24038333333333334\n",
      "[Validation] Epoch: 22\n",
      "[Validation] Loss: 2.2935156021118166, Accuracy: 0.3196\n",
      "[Training] Epoch: 23\n",
      "[Training] Loss: 2.2941525539398193, Accuracy: 0.2464\n",
      "[Validation] Epoch: 23\n",
      "[Validation] Loss: 2.2927932163238527, Accuracy: 0.3387\n",
      "[Training] Epoch: 24\n",
      "[Training] Loss: 2.2935196451822915, Accuracy: 0.25351666666666667\n",
      "[Validation] Epoch: 24\n",
      "[Validation] Loss: 2.2920122650146486, Accuracy: 0.3565\n",
      "[Training] Epoch: 25\n",
      "[Training] Loss: 2.2927382647196453, Accuracy: 0.2644166666666667\n",
      "[Validation] Epoch: 25\n",
      "[Validation] Loss: 2.2911566986083987, Accuracy: 0.3718\n",
      "[Training] Epoch: 26\n",
      "[Training] Loss: 2.291890408198039, Accuracy: 0.2718\n",
      "[Validation] Epoch: 26\n",
      "[Validation] Loss: 2.2902148933410644, Accuracy: 0.3889\n",
      "[Training] Epoch: 27\n",
      "[Training] Loss: 2.291094069417318, Accuracy: 0.2777833333333333\n",
      "[Validation] Epoch: 27\n",
      "[Validation] Loss: 2.289180525970459, Accuracy: 0.4023\n",
      "[Training] Epoch: 28\n",
      "[Training] Loss: 2.2900764751434326, Accuracy: 0.2856\n",
      "[Validation] Epoch: 28\n",
      "[Validation] Loss: 2.288029780578613, Accuracy: 0.4158\n",
      "[Training] Epoch: 29\n",
      "[Training] Loss: 2.2889685288747152, Accuracy: 0.29575\n",
      "[Validation] Epoch: 29\n",
      "[Validation] Loss: 2.2867503959655764, Accuracy: 0.4271\n"
     ]
    }
   ],
   "source": [
    "p4_train_loss = []\n",
    "p4_validation_loss = []\n",
    "p4_train_accuracy = []\n",
    "p4_validation_accuracy = []\n",
    "\n",
    "model = LeNet_Dropout().to(device)\n",
    "optimizer = optim.SGD(model.parameters(), lr=lr)\n",
    "\n",
    "\n",
    "for epoch in range(epochs):\n",
    "\n",
    "    # Training Phase\n",
    "    print(f\"[Training] Epoch: {epoch}\")\n",
    "    train_loss, train_acc = train(model, train_loader, optimizer, device)\n",
    "\n",
    "    # Validation Phase\n",
    "    print(f\"[Validation] Epoch: {epoch}\")\n",
    "    val_loss, val_acc = validate(model, val_loader, device)\n",
    "\n",
    "    p4_train_loss.append(train_loss)\n",
    "    p4_validation_loss.append(val_loss)\n",
    "    p4_train_accuracy.append(train_acc)\n",
    "    p4_validation_accuracy.append(val_acc)\n"
   ]
  },
  {
   "cell_type": "code",
   "execution_count": 26,
   "metadata": {},
   "outputs": [
    {
     "name": "stdout",
     "output_type": "stream",
     "text": [
      "LeNet_Dropout(\n",
      "  (convlayers): Sequential(\n",
      "    (0): Dropout(p=0.2, inplace=False)\n",
      "    (1): Conv2d(1, 6, kernel_size=(5, 5), stride=(1, 1))\n",
      "    (2): Tanh()\n",
      "    (3): Dropout(p=0.5, inplace=False)\n",
      "    (4): AvgPool2d(kernel_size=2, stride=2, padding=0)\n",
      "    (5): Conv2d(6, 16, kernel_size=(5, 5), stride=(1, 1))\n",
      "    (6): Tanh()\n",
      "    (7): Dropout(p=0.5, inplace=False)\n",
      "    (8): AvgPool2d(kernel_size=2, stride=2, padding=0)\n",
      "    (9): Conv2d(16, 120, kernel_size=(5, 5), stride=(1, 1))\n",
      "    (10): Tanh()\n",
      "    (11): Dropout(p=0.5, inplace=False)\n",
      "  )\n",
      "  (flatten): Flatten(start_dim=1, end_dim=-1)\n",
      "  (fc): Sequential(\n",
      "    (0): Linear(in_features=120, out_features=84, bias=True)\n",
      "    (1): Tanh()\n",
      "    (2): Dropout(p=0.5, inplace=False)\n",
      "    (3): Linear(in_features=84, out_features=10, bias=True)\n",
      "    (4): Softmax(dim=1)\n",
      "  )\n",
      ")\n"
     ]
    }
   ],
   "source": [
    "print(model)"
   ]
  },
  {
   "cell_type": "code",
   "execution_count": 27,
   "metadata": {},
   "outputs": [
    {
     "data": {
      "text/plain": [
       "<matplotlib.legend.Legend at 0x15322d12db20>"
      ]
     },
     "execution_count": 27,
     "metadata": {},
     "output_type": "execute_result"
    },
    {
     "data": {
      "image/png": "[encoded data removed]",
      "text/plain": [
       "<Figure size 432x288 with 1 Axes>"
      ]
     },
     "metadata": {
      "needs_background": "light"
     },
     "output_type": "display_data"
    }
   ],
   "source": [
    "plt.title(\"Input Batch Norm vs Input Standard Norm\")\n",
    "plt.ylabel(\"Validation Accuracy\")\n",
    "plt.xlabel(\"Epochs\")\n",
    "\n",
    "plt.plot(range(1, epochs+1), p2_validation_accuracy, label=\"Input Standard Norm\")\n",
    "plt.plot(range(1, epochs+1), p3_validation_accuracy, label=\"Input Batch Norm\")\n",
    "plt.plot(range(1, epochs+1), p4_validation_accuracy, label=\"Dropout\")\n",
    "\n",
    "plt.legend()"
   ]
  },
  {
   "cell_type": "markdown",
   "metadata": {},
   "source": [
    "# Part 5"
   ]
  },
  {
   "cell_type": "code",
   "execution_count": 28,
   "metadata": {},
   "outputs": [],
   "source": [
    "train_dataset = datasets.MNIST(root=\"MNIST\", train=True, transform=p5_transformations, download=True)\n",
    "val_dataset = datasets.MNIST(root=\"MNIST\", train=False, transform=p5_transformations, download=True)\n",
    "\n",
    "train_loader = torch.utils.data.DataLoader(dataset=train_dataset, batch_size=batch_size, shuffle=True, num_workers=2)\n",
    "val_loader = torch.utils.data.DataLoader(dataset=val_dataset, batch_size=batch_size, shuffle=True, num_workers=2)\n"
   ]
  },
  {
   "cell_type": "code",
   "execution_count": 29,
   "metadata": {},
   "outputs": [
    {
     "name": "stdout",
     "output_type": "stream",
     "text": [
      "[Training] Epoch: 0\n",
      "[Training] Loss: 2.2921285919189454, Accuracy: 0.13293333333333332\n",
      "[Validation] Epoch: 0\n",
      "[Validation] Loss: 2.2562203121185305, Accuracy: 0.3816\n",
      "[Training] Epoch: 1\n",
      "[Training] Loss: 2.260658494695028, Accuracy: 0.21598333333333333\n",
      "[Validation] Epoch: 1\n",
      "[Validation] Loss: 2.1856263221740724, Accuracy: 0.5886\n",
      "[Training] Epoch: 2\n",
      "[Training] Loss: 2.2169185544331866, Accuracy: 0.3156833333333333\n",
      "[Validation] Epoch: 2\n",
      "[Validation] Loss: 2.105255342102051, Accuracy: 0.63\n",
      "[Training] Epoch: 3\n",
      "[Training] Loss: 2.167672726313273, Accuracy: 0.4025\n",
      "[Validation] Epoch: 3\n",
      "[Validation] Loss: 2.034618440246582, Accuracy: 0.6511\n",
      "[Training] Epoch: 4\n",
      "[Training] Loss: 2.1202824049631754, Accuracy: 0.46418333333333334\n",
      "[Validation] Epoch: 4\n",
      "[Validation] Loss: 1.9787419494628906, Accuracy: 0.67\n",
      "[Training] Epoch: 5\n",
      "[Training] Loss: 2.0767000586191813, Accuracy: 0.5133166666666666\n",
      "[Validation] Epoch: 5\n",
      "[Validation] Loss: 1.9310132040023804, Accuracy: 0.6847\n",
      "[Training] Epoch: 6\n",
      "[Training] Loss: 2.0382139872868854, Accuracy: 0.5535333333333333\n",
      "[Validation] Epoch: 6\n",
      "[Validation] Loss: 1.8907083694458007, Accuracy: 0.7014\n",
      "[Training] Epoch: 7\n",
      "[Training] Loss: 2.003867425282796, Accuracy: 0.5873333333333334\n",
      "[Validation] Epoch: 7\n",
      "[Validation] Loss: 1.8547775186538695, Accuracy: 0.7176\n",
      "[Training] Epoch: 8\n",
      "[Training] Loss: 1.973575887298584, Accuracy: 0.6133166666666666\n",
      "[Validation] Epoch: 8\n",
      "[Validation] Loss: 1.8269467840194702, Accuracy: 0.7282\n",
      "[Training] Epoch: 9\n",
      "[Training] Loss: 1.9464695867538453, Accuracy: 0.6347166666666667\n",
      "[Validation] Epoch: 9\n",
      "[Validation] Loss: 1.8033115909576416, Accuracy: 0.7385\n",
      "[Training] Epoch: 10\n",
      "[Training] Loss: 1.9241055487950642, Accuracy: 0.6523333333333333\n",
      "[Validation] Epoch: 10\n",
      "[Validation] Loss: 1.784049150466919, Accuracy: 0.747\n",
      "[Training] Epoch: 11\n",
      "[Training] Loss: 1.9017612909317017, Accuracy: 0.66675\n",
      "[Validation] Epoch: 11\n",
      "[Validation] Loss: 1.7689094982147218, Accuracy: 0.7508\n",
      "[Training] Epoch: 12\n",
      "[Training] Loss: 1.8852104561487835, Accuracy: 0.6761333333333334\n",
      "[Validation] Epoch: 12\n",
      "[Validation] Loss: 1.7554537551879883, Accuracy: 0.7571\n",
      "[Training] Epoch: 13\n",
      "[Training] Loss: 1.8701840021133422, Accuracy: 0.6883333333333334\n",
      "[Validation] Epoch: 13\n",
      "[Validation] Loss: 1.7440171590805054, Accuracy: 0.7638\n",
      "[Training] Epoch: 14\n",
      "[Training] Loss: 1.8569110382080078, Accuracy: 0.6954166666666667\n",
      "[Validation] Epoch: 14\n",
      "[Validation] Loss: 1.73362169342041, Accuracy: 0.7697\n",
      "[Training] Epoch: 15\n",
      "[Training] Loss: 1.8433219176610312, Accuracy: 0.7053166666666667\n",
      "[Validation] Epoch: 15\n",
      "[Validation] Loss: 1.7247244771957397, Accuracy: 0.7757\n",
      "[Training] Epoch: 16\n",
      "[Training] Loss: 1.833097334734599, Accuracy: 0.7120666666666666\n",
      "[Validation] Epoch: 16\n",
      "[Validation] Loss: 1.7160611457824706, Accuracy: 0.7832\n",
      "[Training] Epoch: 17\n",
      "[Training] Loss: 1.8217589930852254, Accuracy: 0.72145\n",
      "[Validation] Epoch: 17\n",
      "[Validation] Loss: 1.7070703950881958, Accuracy: 0.7938\n",
      "[Training] Epoch: 18\n",
      "[Training] Loss: 1.8141514844258626, Accuracy: 0.727\n",
      "[Validation] Epoch: 18\n",
      "[Validation] Loss: 1.6984795518875122, Accuracy: 0.8074\n",
      "[Training] Epoch: 19\n",
      "[Training] Loss: 1.8035767278035482, Accuracy: 0.73795\n",
      "[Validation] Epoch: 19\n",
      "[Validation] Loss: 1.689188212966919, Accuracy: 0.8215\n",
      "[Training] Epoch: 20\n",
      "[Training] Loss: 1.796063550567627, Accuracy: 0.7419333333333333\n",
      "[Validation] Epoch: 20\n",
      "[Validation] Loss: 1.6803500303268433, Accuracy: 0.8366\n",
      "[Training] Epoch: 21\n",
      "[Training] Loss: 1.787056107902527, Accuracy: 0.7522833333333333\n",
      "[Validation] Epoch: 21\n",
      "[Validation] Loss: 1.6720910373687745, Accuracy: 0.8509\n",
      "[Training] Epoch: 22\n",
      "[Training] Loss: 1.7789734786987306, Accuracy: 0.7607833333333334\n",
      "[Validation] Epoch: 22\n",
      "[Validation] Loss: 1.6639145320892335, Accuracy: 0.8594\n",
      "[Training] Epoch: 23\n",
      "[Training] Loss: 1.7719882782618204, Accuracy: 0.7672833333333333\n",
      "[Validation] Epoch: 23\n",
      "[Validation] Loss: 1.6575233556747437, Accuracy: 0.8677\n",
      "[Training] Epoch: 24\n",
      "[Training] Loss: 1.7655409940719604, Accuracy: 0.7741\n",
      "[Validation] Epoch: 24\n",
      "[Validation] Loss: 1.6504361949920654, Accuracy: 0.8744\n",
      "[Training] Epoch: 25\n",
      "[Training] Loss: 1.7596614547729492, Accuracy: 0.77895\n",
      "[Validation] Epoch: 25\n",
      "[Validation] Loss: 1.6442654794692992, Accuracy: 0.8779\n",
      "[Training] Epoch: 26\n",
      "[Training] Loss: 1.7526427295049032, Accuracy: 0.7828166666666667\n",
      "[Validation] Epoch: 26\n",
      "[Validation] Loss: 1.6396599269866943, Accuracy: 0.8791\n",
      "[Training] Epoch: 27\n",
      "[Training] Loss: 1.7474349392573039, Accuracy: 0.7886166666666666\n",
      "[Validation] Epoch: 27\n",
      "[Validation] Loss: 1.6344082075119017, Accuracy: 0.881\n",
      "[Training] Epoch: 28\n",
      "[Training] Loss: 1.7405511292139688, Accuracy: 0.79425\n",
      "[Validation] Epoch: 28\n",
      "[Validation] Loss: 1.6301569139480592, Accuracy: 0.8818\n",
      "[Training] Epoch: 29\n",
      "[Training] Loss: 1.73584430103302, Accuracy: 0.7974333333333333\n",
      "[Validation] Epoch: 29\n",
      "[Validation] Loss: 1.6268804769515992, Accuracy: 0.8832\n"
     ]
    }
   ],
   "source": [
    "p5_train_loss = []\n",
    "p5_validation_loss = []\n",
    "p5_train_accuracy = []\n",
    "p5_validation_accuracy = []\n",
    "\n",
    "model = LeNet_DropoutBatchNorm().to(device)\n",
    "optimizer = optim.SGD(model.parameters(), lr=lr)\n",
    "\n",
    "\n",
    "for epoch in range(epochs):\n",
    "\n",
    "    # Training Phase\n",
    "    print(f\"[Training] Epoch: {epoch}\")\n",
    "    train_loss, train_acc = train(model, train_loader, optimizer, device)\n",
    "\n",
    "    # Validation Phase\n",
    "    print(f\"[Validation] Epoch: {epoch}\")\n",
    "    val_loss, val_acc = validate(model, val_loader, device)\n",
    "\n",
    "    p5_train_loss.append(train_loss)\n",
    "    p5_validation_loss.append(val_loss)\n",
    "    p5_train_accuracy.append(train_acc)\n",
    "    p5_validation_accuracy.append(val_acc)\n"
   ]
  },
  {
   "cell_type": "code",
   "execution_count": 30,
   "metadata": {},
   "outputs": [
    {
     "name": "stdout",
     "output_type": "stream",
     "text": [
      "LeNet_DropoutBatchNorm(\n",
      "  (convlayers): Sequential(\n",
      "    (0): Dropout(p=0.2, inplace=False)\n",
      "    (1): Conv2d(1, 6, kernel_size=(5, 5), stride=(1, 1))\n",
      "    (2): Tanh()\n",
      "    (3): BatchNorm2d(6, eps=1e-05, momentum=0.1, affine=True, track_running_stats=True)\n",
      "    (4): Dropout(p=0.5, inplace=False)\n",
      "    (5): AvgPool2d(kernel_size=2, stride=2, padding=0)\n",
      "    (6): Conv2d(6, 16, kernel_size=(5, 5), stride=(1, 1))\n",
      "    (7): Tanh()\n",
      "    (8): BatchNorm2d(16, eps=1e-05, momentum=0.1, affine=True, track_running_stats=True)\n",
      "    (9): Dropout(p=0.5, inplace=False)\n",
      "    (10): AvgPool2d(kernel_size=2, stride=2, padding=0)\n",
      "    (11): Conv2d(16, 120, kernel_size=(5, 5), stride=(1, 1))\n",
      "    (12): Tanh()\n",
      "    (13): BatchNorm2d(120, eps=1e-05, momentum=0.1, affine=True, track_running_stats=True)\n",
      "    (14): Dropout(p=0.5, inplace=False)\n",
      "  )\n",
      "  (flatten): Flatten(start_dim=1, end_dim=-1)\n",
      "  (fc): Sequential(\n",
      "    (0): Linear(in_features=120, out_features=84, bias=True)\n",
      "    (1): Tanh()\n",
      "    (2): BatchNorm1d(84, eps=1e-05, momentum=0.1, affine=True, track_running_stats=True)\n",
      "    (3): Dropout(p=0.5, inplace=False)\n",
      "    (4): Linear(in_features=84, out_features=10, bias=True)\n",
      "    (5): Softmax(dim=1)\n",
      "  )\n",
      ")\n"
     ]
    }
   ],
   "source": [
    "print(model)"
   ]
  },
  {
   "cell_type": "code",
   "execution_count": 31,
   "metadata": {},
   "outputs": [
    {
     "data": {
      "text/plain": [
       "<matplotlib.legend.Legend at 0x15322d04bc10>"
      ]
     },
     "execution_count": 31,
     "metadata": {},
     "output_type": "execute_result"
    },
    {
     "data": {
      "image/png": "[encoded data removed]",
      "text/plain": [
       "<Figure size 432x288 with 1 Axes>"
      ]
     },
     "metadata": {
      "needs_background": "light"
     },
     "output_type": "display_data"
    }
   ],
   "source": [
    "plt.title(\"Input Batch Norm vs Input Standard Norm\")\n",
    "plt.ylabel(\"Validation Accuracy\")\n",
    "plt.xlabel(\"Epochs\")\n",
    "\n",
    "plt.plot(range(1,  epochs+1), p2_validation_accuracy, label=\"Batch Norm\")\n",
    "plt.plot(range(1,  epochs+1), p4_validation_accuracy, label=\"Dropout\")\n",
    "plt.plot(range(1,  epochs+1), p5_validation_accuracy, label=\"Dropout + Batch Norm\")\n",
    "\n",
    "plt.legend()"
   ]
  }
 ],
 "metadata": {
  "interpreter": {
   "hash": "cd6d8db529fcb6d8412518a5eecbbc3302ab092981e5676bdd98593d89df19c6"
  },
  "kernelspec": {
   "display_name": "pytorch",
   "language": "python",
   "name": "pytorch"
  },
  "language_info": {
   "codemirror_mode": {
    "name": "ipython",
    "version": 3
   },
   "file_extension": ".py",
   "mimetype": "text/x-python",
   "name": "python",
   "nbconvert_exporter": "python",
   "pygments_lexer": "ipython3",
   "version": "3.9.7"
  }
 },
 "nbformat": 4,
 "nbformat_minor": 4
}
