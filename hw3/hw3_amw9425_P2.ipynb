{
 "cells": [
  {
   "cell_type": "code",
   "execution_count": 41,
   "metadata": {},
   "outputs": [],
   "source": [
    "import torch\n",
    "import torch.nn as nn\n",
    "import torch.nn.functional as F\n",
    "import torch.optim as optim\n",
    "from torchvision import datasets, transforms\n",
    "import matplotlib.pyplot as plt\n"
   ]
  },
  {
   "cell_type": "code",
   "execution_count": 42,
   "metadata": {},
   "outputs": [],
   "source": [
    "class LeNet_BatchNorm(nn.Module):\n",
    "    def __init__(self):\n",
    "        \n",
    "        super().__init__()\n",
    "        self.convlayers = nn.Sequential(\n",
    "            nn.Conv2d(in_channels=1, out_channels=6, kernel_size=5, stride=1),\n",
    "            nn.Tanh(),\n",
    "            nn.BatchNorm2d(6),\n",
    "            nn.AvgPool2d(kernel_size=2),\n",
    "            nn.Conv2d(in_channels=6, out_channels=16, kernel_size=5, stride=1),\n",
    "            nn.Tanh(),\n",
    "            nn.BatchNorm2d(16),\n",
    "            nn.AvgPool2d(kernel_size=2),\n",
    "            nn.Conv2d(in_channels=16, out_channels=120, kernel_size=5, stride=1),\n",
    "            nn.Tanh(),\n",
    "            nn.BatchNorm2d(120),\n",
    "        )\n",
    "        self.flatten = nn.Flatten()\n",
    "        self.fc = nn.Sequential(nn.Linear(120, 84), nn.Tanh(), nn.BatchNorm1d(84), nn.Linear(84, 10), nn.Softmax(1))\n",
    "\n",
    "    def forward(self, x):\n",
    "        x = self.convlayers(x)\n",
    "        x = self.flatten(x)\n",
    "        x = self.fc(x)\n",
    "        return x\n"
   ]
  },
  {
   "cell_type": "code",
   "execution_count": 43,
   "metadata": {},
   "outputs": [],
   "source": [
    "class LeNet_InputBatchNorm(nn.Module):\n",
    "    def __init__(self):\n",
    "        \n",
    "        super().__init__()\n",
    "        self.convlayers = nn.Sequential(\n",
    "            nn.BatchNorm2d(1),\n",
    "            nn.Conv2d(in_channels=1, out_channels=6, kernel_size=5, stride=1),\n",
    "            nn.Tanh(),\n",
    "            nn.BatchNorm2d(6),\n",
    "            nn.AvgPool2d(kernel_size=2),\n",
    "            nn.Conv2d(in_channels=6, out_channels=16, kernel_size=5, stride=1),\n",
    "            nn.Tanh(),\n",
    "            nn.BatchNorm2d(16),\n",
    "            nn.AvgPool2d(kernel_size=2),\n",
    "            nn.Conv2d(in_channels=16, out_channels=120, kernel_size=5, stride=1),\n",
    "            nn.Tanh(),\n",
    "            nn.BatchNorm2d(120),\n",
    "        )\n",
    "        self.flatten = nn.Flatten()\n",
    "        self.fc = nn.Sequential(nn.Linear(120, 84), nn.Tanh(), nn.BatchNorm1d(84), nn.Linear(84, 10), nn.Softmax(1))\n",
    "\n",
    "    def forward(self, x):\n",
    "        x = self.convlayers(x)\n",
    "        x = self.flatten(x)\n",
    "        x = self.fc(x)\n",
    "        return x\n"
   ]
  },
  {
   "cell_type": "code",
   "execution_count": 44,
   "metadata": {},
   "outputs": [],
   "source": [
    "class LeNet_Dropout(nn.Module):\n",
    "    def __init__(self):\n",
    "        \n",
    "        super().__init__()\n",
    "        self.convlayers = nn.Sequential(\n",
    "            nn.Dropout(p=0.2),\n",
    "            nn.Conv2d(in_channels=1, out_channels=6, kernel_size=5, stride=1),\n",
    "            nn.Tanh(),\n",
    "            nn.Dropout(p=0.5),\n",
    "            nn.AvgPool2d(kernel_size=2),\n",
    "            nn.Conv2d(in_channels=6, out_channels=16, kernel_size=5, stride=1),\n",
    "            nn.Tanh(),\n",
    "            nn.Dropout(p=0.5),\n",
    "            nn.AvgPool2d(kernel_size=2),\n",
    "            nn.Conv2d(in_channels=16, out_channels=120, kernel_size=5, stride=1),\n",
    "            nn.Tanh(),\n",
    "            nn.Dropout(p=0.5),\n",
    "        )\n",
    "        self.flatten = nn.Flatten()\n",
    "        self.fc = nn.Sequential(nn.Linear(120, 84), nn.Tanh(), nn.Dropout(p=0.5), nn.Linear(84, 10), nn.Softmax(1))\n",
    "\n",
    "    def forward(self, x):\n",
    "        x = self.convlayers(x)\n",
    "        x = self.flatten(x)\n",
    "        x = self.fc(x)\n",
    "        return x\n"
   ]
  },
  {
   "cell_type": "code",
   "execution_count": 45,
   "metadata": {},
   "outputs": [],
   "source": [
    "class LeNet_DropoutBatchNorm(nn.Module):\n",
    "    def __init__(self):\n",
    "        \n",
    "        super().__init__()\n",
    "        self.convlayers = nn.Sequential(\n",
    "            nn.Dropout(p=0.2),\n",
    "            nn.Conv2d(in_channels=1, out_channels=6, kernel_size=5, stride=1),\n",
    "            nn.Tanh(),\n",
    "            nn.BatchNorm2d(6),\n",
    "            nn.Dropout(p=0.5),\n",
    "            nn.AvgPool2d(kernel_size=2),\n",
    "            nn.Conv2d(in_channels=6, out_channels=16, kernel_size=5, stride=1),\n",
    "            nn.Tanh(),\n",
    "            nn.BatchNorm2d(16),\n",
    "            nn.Dropout(p=0.5),\n",
    "            nn.AvgPool2d(kernel_size=2),\n",
    "            nn.Conv2d(in_channels=16, out_channels=120, kernel_size=5, stride=1),\n",
    "            nn.Tanh(),\n",
    "            nn.BatchNorm2d(120),\n",
    "            nn.Dropout(p=0.5),\n",
    "        )\n",
    "        self.flatten = nn.Flatten()\n",
    "        self.fc = nn.Sequential(nn.Linear(120, 84), nn.Tanh(), nn.BatchNorm2d(84),nn.Dropout(p=0.5), nn.Linear(84, 10), nn.Softmax(1))\n",
    "\n",
    "    def forward(self, x):\n",
    "        x = self.convlayers(x)\n",
    "        x = self.flatten(x)\n",
    "        x = self.fc(x)\n",
    "        return x\n"
   ]
  },
  {
   "cell_type": "code",
   "execution_count": 46,
   "metadata": {},
   "outputs": [],
   "source": [
    "def train(model, dataloader, optimizer, device=\"cpu\"):\n",
    "\n",
    "    # store loss & accuracy for each epoch\n",
    "    total_loss = 0.0\n",
    "    total = 0.0\n",
    "    correct = 0.0\n",
    "\n",
    "    model.train()\n",
    "    for images, labels in dataloader:\n",
    "\n",
    "        # send stuff to device\n",
    "        images, labels = images.to(device), labels.to(device)\n",
    "\n",
    "        # forward pass\n",
    "        preds = model(images)\n",
    "\n",
    "        # compute loss\n",
    "        loss = loss_fn(preds, labels)\n",
    "\n",
    "        # gradient descent\n",
    "        optimizer.zero_grad()\n",
    "        loss.backward()\n",
    "        optimizer.step()\n",
    "\n",
    "        # loss and accuracy calculations\n",
    "        total_loss += preds.shape[0] * loss.item()\n",
    "        _, predicted = torch.max(preds.data, 1)\n",
    "        total += labels.size(0)\n",
    "        correct += (predicted == labels).sum().item()\n",
    "\n",
    "    train_loss = total_loss / total\n",
    "    train_accuracy = correct / total\n",
    "\n",
    "    print(f\"[Training] Loss: {train_loss}, Accuracy: {train_accuracy}\")\n",
    "\n",
    "    return train_loss, train_accuracy\n"
   ]
  },
  {
   "cell_type": "code",
   "execution_count": 47,
   "metadata": {},
   "outputs": [],
   "source": [
    "def validate(model, dataloader, device=\"cpu\"):\n",
    "\n",
    "    # store loss & accuracy for each epoch\n",
    "    total_loss = 0.0\n",
    "    total = 0.0\n",
    "    correct = 0.0\n",
    "\n",
    "    model.eval()\n",
    "    with torch.no_grad():\n",
    "        for images, labels in dataloader:\n",
    "\n",
    "            # send stuff to device\n",
    "            images, labels = images.to(device), labels.to(device)\n",
    "\n",
    "            # forward pass\n",
    "            preds = model(images)\n",
    "\n",
    "            # compute loss\n",
    "            loss = loss_fn(preds, labels)\n",
    "\n",
    "            # loss and accuracy calculations\n",
    "            total_loss += preds.shape[0] * loss.item()\n",
    "            _, predicted = torch.max(preds.data, 1)\n",
    "            total += labels.size(0)\n",
    "            correct += (predicted == labels).sum().item()\n",
    "\n",
    "    val_loss = total_loss / total\n",
    "    val_accuracy = correct / total\n",
    "\n",
    "    print(f\"[Validation] Loss: {val_loss}, Accuracy: {val_accuracy}\")\n",
    "\n",
    "    return val_loss, val_accuracy\n"
   ]
  },
  {
   "cell_type": "code",
   "execution_count": 48,
   "metadata": {},
   "outputs": [],
   "source": [
    "batch_size = 32\n",
    "device = \"cuda\" if torch.cuda.is_available() else \"cpu\"\n",
    "epochs = 12\n",
    "loss_fn = nn.CrossEntropyLoss()"
   ]
  },
  {
   "cell_type": "code",
   "execution_count": 49,
   "metadata": {},
   "outputs": [],
   "source": [
    "# define appropriate transforms for each part\n",
    "p2_transformations = transforms.Compose([transforms.Resize((32, 32)), transforms.ToTensor(), transforms.Normalize(mean=(0.1307,), std=(0.3081,))])\n",
    "p3_transformations = transforms.Compose([transforms.Resize((32, 32)), transforms.ToTensor()])\n",
    "p4_transformations = transforms.Compose([transforms.Resize((32, 32)), transforms.ToTensor(), transforms.Normalize(mean=(0.1307,), std=(0.3081,))])\n",
    "p5_transformations = transforms.Compose([transforms.Resize((32, 32)), transforms.ToTensor(), transforms.Normalize(mean=(0.1307,), std=(0.3081,))])\n"
   ]
  },
  {
   "cell_type": "markdown",
   "metadata": {},
   "source": [
    "#  Part 2"
   ]
  },
  {
   "cell_type": "code",
   "execution_count": 50,
   "metadata": {},
   "outputs": [],
   "source": [
    "train_dataset = datasets.MNIST(root=\"MNIST\", train=True, transform=p2_transformations, download=True)\n",
    "val_dataset = datasets.MNIST(root=\"MNIST\", train=False, transform=p2_transformations, download=True)\n",
    "\n",
    "train_loader = torch.utils.data.DataLoader(dataset=train_dataset, batch_size=batch_size, shuffle=True, num_workers=2)\n",
    "val_loader = torch.utils.data.DataLoader(dataset=val_dataset, batch_size=batch_size, shuffle=True, num_workers=2)\n"
   ]
  },
  {
   "cell_type": "code",
   "execution_count": 54,
   "metadata": {},
   "outputs": [
    {
     "name": "stdout",
     "output_type": "stream",
     "text": [
      "[Validation] Epoch: 0\n",
      "[Validation] Loss: 2.302244538497925, Accuracy: 0.1176\n",
      "[Training] Epoch: 0\n",
      "[Training] Loss: 1.5185882519404093, Accuracy: 0.9534\n",
      "[Validation] Epoch: 1\n",
      "[Validation] Loss: 1.4845309381484986, Accuracy: 0.9781\n",
      "[Training] Epoch: 1\n",
      "[Training] Loss: 1.486625106048584, Accuracy: 0.9760333333333333\n",
      "[Validation] Epoch: 2\n",
      "[Validation] Loss: 1.4805363555908204, Accuracy: 0.9811\n",
      "[Training] Epoch: 2\n",
      "[Training] Loss: 1.481323575592041, Accuracy: 0.9806333333333334\n",
      "[Validation] Epoch: 3\n",
      "[Validation] Loss: 1.4793711917877197, Accuracy: 0.9821\n",
      "[Training] Epoch: 3\n"
     ]
    },
    {
     "ename": "KeyboardInterrupt",
     "evalue": "",
     "output_type": "error",
     "traceback": [
      "\u001b[1;31m---------------------------------------------------------------------------\u001b[0m",
      "\u001b[1;31mKeyboardInterrupt\u001b[0m                         Traceback (most recent call last)",
      "\u001b[1;32mg:\\My Drive\\Courses\\High Performance ML\\Homeworks\\hw3\\hw3_amw9425_P2.ipynb Cell 12'\u001b[0m in \u001b[0;36m<cell line: 10>\u001b[1;34m()\u001b[0m\n\u001b[0;32m     <a href='vscode-notebook-cell:/g%3A/My%20Drive/Courses/High%20Performance%20ML/Homeworks/hw3/hw3_amw9425_P2.ipynb#ch0000021?line=15'>16</a>\u001b[0m \u001b[39m# Training Phase\u001b[39;00m\n\u001b[0;32m     <a href='vscode-notebook-cell:/g%3A/My%20Drive/Courses/High%20Performance%20ML/Homeworks/hw3/hw3_amw9425_P2.ipynb#ch0000021?line=16'>17</a>\u001b[0m \u001b[39mprint\u001b[39m(\u001b[39mf\u001b[39m\u001b[39m\"\u001b[39m\u001b[39m[Training] Epoch: \u001b[39m\u001b[39m{\u001b[39;00mepoch\u001b[39m}\u001b[39;00m\u001b[39m\"\u001b[39m)\n\u001b[1;32m---> <a href='vscode-notebook-cell:/g%3A/My%20Drive/Courses/High%20Performance%20ML/Homeworks/hw3/hw3_amw9425_P2.ipynb#ch0000021?line=17'>18</a>\u001b[0m train_loss, train_acc \u001b[39m=\u001b[39m train(model, train_loader, optimizer, device)\n\u001b[0;32m     <a href='vscode-notebook-cell:/g%3A/My%20Drive/Courses/High%20Performance%20ML/Homeworks/hw3/hw3_amw9425_P2.ipynb#ch0000021?line=19'>20</a>\u001b[0m p2_train_loss\u001b[39m.\u001b[39mappend(train_loss)\n\u001b[0;32m     <a href='vscode-notebook-cell:/g%3A/My%20Drive/Courses/High%20Performance%20ML/Homeworks/hw3/hw3_amw9425_P2.ipynb#ch0000021?line=20'>21</a>\u001b[0m p2_validation_loss\u001b[39m.\u001b[39mappend(val_loss)\n",
      "\u001b[1;32mg:\\My Drive\\Courses\\High Performance ML\\Homeworks\\hw3\\hw3_amw9425_P2.ipynb Cell 6'\u001b[0m in \u001b[0;36mtrain\u001b[1;34m(model, dataloader, optimizer, device)\u001b[0m\n\u001b[0;32m     <a href='vscode-notebook-cell:/g%3A/My%20Drive/Courses/High%20Performance%20ML/Homeworks/hw3/hw3_amw9425_P2.ipynb#ch0000004?line=20'>21</a>\u001b[0m optimizer\u001b[39m.\u001b[39mzero_grad()\n\u001b[0;32m     <a href='vscode-notebook-cell:/g%3A/My%20Drive/Courses/High%20Performance%20ML/Homeworks/hw3/hw3_amw9425_P2.ipynb#ch0000004?line=21'>22</a>\u001b[0m loss\u001b[39m.\u001b[39mbackward()\n\u001b[1;32m---> <a href='vscode-notebook-cell:/g%3A/My%20Drive/Courses/High%20Performance%20ML/Homeworks/hw3/hw3_amw9425_P2.ipynb#ch0000004?line=22'>23</a>\u001b[0m optimizer\u001b[39m.\u001b[39;49mstep()\n\u001b[0;32m     <a href='vscode-notebook-cell:/g%3A/My%20Drive/Courses/High%20Performance%20ML/Homeworks/hw3/hw3_amw9425_P2.ipynb#ch0000004?line=24'>25</a>\u001b[0m \u001b[39m# loss and accuracy calculations\u001b[39;00m\n\u001b[0;32m     <a href='vscode-notebook-cell:/g%3A/My%20Drive/Courses/High%20Performance%20ML/Homeworks/hw3/hw3_amw9425_P2.ipynb#ch0000004?line=25'>26</a>\u001b[0m total_loss \u001b[39m+\u001b[39m\u001b[39m=\u001b[39m preds\u001b[39m.\u001b[39mshape[\u001b[39m0\u001b[39m] \u001b[39m*\u001b[39m loss\u001b[39m.\u001b[39mitem()\n",
      "File \u001b[1;32m~\\miniforge3\\envs\\torch\\lib\\site-packages\\torch\\optim\\optimizer.py:88\u001b[0m, in \u001b[0;36mOptimizer._hook_for_profile.<locals>.profile_hook_step.<locals>.wrapper\u001b[1;34m(*args, **kwargs)\u001b[0m\n\u001b[0;32m     <a href='file:///c%3A/Users/adity/miniforge3/envs/torch/lib/site-packages/torch/optim/optimizer.py?line=85'>86</a>\u001b[0m profile_name \u001b[39m=\u001b[39m \u001b[39m\"\u001b[39m\u001b[39mOptimizer.step#\u001b[39m\u001b[39m{}\u001b[39;00m\u001b[39m.step\u001b[39m\u001b[39m\"\u001b[39m\u001b[39m.\u001b[39mformat(obj\u001b[39m.\u001b[39m\u001b[39m__class__\u001b[39m\u001b[39m.\u001b[39m\u001b[39m__name__\u001b[39m)\n\u001b[0;32m     <a href='file:///c%3A/Users/adity/miniforge3/envs/torch/lib/site-packages/torch/optim/optimizer.py?line=86'>87</a>\u001b[0m \u001b[39mwith\u001b[39;00m torch\u001b[39m.\u001b[39mautograd\u001b[39m.\u001b[39mprofiler\u001b[39m.\u001b[39mrecord_function(profile_name):\n\u001b[1;32m---> <a href='file:///c%3A/Users/adity/miniforge3/envs/torch/lib/site-packages/torch/optim/optimizer.py?line=87'>88</a>\u001b[0m     \u001b[39mreturn\u001b[39;00m func(\u001b[39m*\u001b[39margs, \u001b[39m*\u001b[39m\u001b[39m*\u001b[39mkwargs)\n",
      "File \u001b[1;32m~\\miniforge3\\envs\\torch\\lib\\site-packages\\torch\\autograd\\grad_mode.py:27\u001b[0m, in \u001b[0;36m_DecoratorContextManager.__call__.<locals>.decorate_context\u001b[1;34m(*args, **kwargs)\u001b[0m\n\u001b[0;32m     <a href='file:///c%3A/Users/adity/miniforge3/envs/torch/lib/site-packages/torch/autograd/grad_mode.py?line=23'>24</a>\u001b[0m \u001b[39m@functools\u001b[39m\u001b[39m.\u001b[39mwraps(func)\n\u001b[0;32m     <a href='file:///c%3A/Users/adity/miniforge3/envs/torch/lib/site-packages/torch/autograd/grad_mode.py?line=24'>25</a>\u001b[0m \u001b[39mdef\u001b[39;00m \u001b[39mdecorate_context\u001b[39m(\u001b[39m*\u001b[39margs, \u001b[39m*\u001b[39m\u001b[39m*\u001b[39mkwargs):\n\u001b[0;32m     <a href='file:///c%3A/Users/adity/miniforge3/envs/torch/lib/site-packages/torch/autograd/grad_mode.py?line=25'>26</a>\u001b[0m     \u001b[39mwith\u001b[39;00m \u001b[39mself\u001b[39m\u001b[39m.\u001b[39mclone():\n\u001b[1;32m---> <a href='file:///c%3A/Users/adity/miniforge3/envs/torch/lib/site-packages/torch/autograd/grad_mode.py?line=26'>27</a>\u001b[0m         \u001b[39mreturn\u001b[39;00m func(\u001b[39m*\u001b[39margs, \u001b[39m*\u001b[39m\u001b[39m*\u001b[39mkwargs)\n",
      "File \u001b[1;32m~\\miniforge3\\envs\\torch\\lib\\site-packages\\torch\\optim\\adam.py:141\u001b[0m, in \u001b[0;36mAdam.step\u001b[1;34m(self, closure)\u001b[0m\n\u001b[0;32m    <a href='file:///c%3A/Users/adity/miniforge3/envs/torch/lib/site-packages/torch/optim/adam.py?line=137'>138</a>\u001b[0m             \u001b[39m# record the step after step update\u001b[39;00m\n\u001b[0;32m    <a href='file:///c%3A/Users/adity/miniforge3/envs/torch/lib/site-packages/torch/optim/adam.py?line=138'>139</a>\u001b[0m             state_steps\u001b[39m.\u001b[39mappend(state[\u001b[39m'\u001b[39m\u001b[39mstep\u001b[39m\u001b[39m'\u001b[39m])\n\u001b[1;32m--> <a href='file:///c%3A/Users/adity/miniforge3/envs/torch/lib/site-packages/torch/optim/adam.py?line=140'>141</a>\u001b[0m     F\u001b[39m.\u001b[39;49madam(params_with_grad,\n\u001b[0;32m    <a href='file:///c%3A/Users/adity/miniforge3/envs/torch/lib/site-packages/torch/optim/adam.py?line=141'>142</a>\u001b[0m            grads,\n\u001b[0;32m    <a href='file:///c%3A/Users/adity/miniforge3/envs/torch/lib/site-packages/torch/optim/adam.py?line=142'>143</a>\u001b[0m            exp_avgs,\n\u001b[0;32m    <a href='file:///c%3A/Users/adity/miniforge3/envs/torch/lib/site-packages/torch/optim/adam.py?line=143'>144</a>\u001b[0m            exp_avg_sqs,\n\u001b[0;32m    <a href='file:///c%3A/Users/adity/miniforge3/envs/torch/lib/site-packages/torch/optim/adam.py?line=144'>145</a>\u001b[0m            max_exp_avg_sqs,\n\u001b[0;32m    <a href='file:///c%3A/Users/adity/miniforge3/envs/torch/lib/site-packages/torch/optim/adam.py?line=145'>146</a>\u001b[0m            state_steps,\n\u001b[0;32m    <a href='file:///c%3A/Users/adity/miniforge3/envs/torch/lib/site-packages/torch/optim/adam.py?line=146'>147</a>\u001b[0m            amsgrad\u001b[39m=\u001b[39;49mgroup[\u001b[39m'\u001b[39;49m\u001b[39mamsgrad\u001b[39;49m\u001b[39m'\u001b[39;49m],\n\u001b[0;32m    <a href='file:///c%3A/Users/adity/miniforge3/envs/torch/lib/site-packages/torch/optim/adam.py?line=147'>148</a>\u001b[0m            beta1\u001b[39m=\u001b[39;49mbeta1,\n\u001b[0;32m    <a href='file:///c%3A/Users/adity/miniforge3/envs/torch/lib/site-packages/torch/optim/adam.py?line=148'>149</a>\u001b[0m            beta2\u001b[39m=\u001b[39;49mbeta2,\n\u001b[0;32m    <a href='file:///c%3A/Users/adity/miniforge3/envs/torch/lib/site-packages/torch/optim/adam.py?line=149'>150</a>\u001b[0m            lr\u001b[39m=\u001b[39;49mgroup[\u001b[39m'\u001b[39;49m\u001b[39mlr\u001b[39;49m\u001b[39m'\u001b[39;49m],\n\u001b[0;32m    <a href='file:///c%3A/Users/adity/miniforge3/envs/torch/lib/site-packages/torch/optim/adam.py?line=150'>151</a>\u001b[0m            weight_decay\u001b[39m=\u001b[39;49mgroup[\u001b[39m'\u001b[39;49m\u001b[39mweight_decay\u001b[39;49m\u001b[39m'\u001b[39;49m],\n\u001b[0;32m    <a href='file:///c%3A/Users/adity/miniforge3/envs/torch/lib/site-packages/torch/optim/adam.py?line=151'>152</a>\u001b[0m            eps\u001b[39m=\u001b[39;49mgroup[\u001b[39m'\u001b[39;49m\u001b[39meps\u001b[39;49m\u001b[39m'\u001b[39;49m],\n\u001b[0;32m    <a href='file:///c%3A/Users/adity/miniforge3/envs/torch/lib/site-packages/torch/optim/adam.py?line=152'>153</a>\u001b[0m            maximize\u001b[39m=\u001b[39;49mgroup[\u001b[39m'\u001b[39;49m\u001b[39mmaximize\u001b[39;49m\u001b[39m'\u001b[39;49m])\n\u001b[0;32m    <a href='file:///c%3A/Users/adity/miniforge3/envs/torch/lib/site-packages/torch/optim/adam.py?line=153'>154</a>\u001b[0m \u001b[39mreturn\u001b[39;00m loss\n",
      "File \u001b[1;32m~\\miniforge3\\envs\\torch\\lib\\site-packages\\torch\\optim\\_functional.py:97\u001b[0m, in \u001b[0;36madam\u001b[1;34m(params, grads, exp_avgs, exp_avg_sqs, max_exp_avg_sqs, state_steps, amsgrad, beta1, beta2, lr, weight_decay, eps, maximize)\u001b[0m\n\u001b[0;32m     <a href='file:///c%3A/Users/adity/miniforge3/envs/torch/lib/site-packages/torch/optim/_functional.py?line=93'>94</a>\u001b[0m     grad \u001b[39m=\u001b[39m grad\u001b[39m.\u001b[39madd(param, alpha\u001b[39m=\u001b[39mweight_decay)\n\u001b[0;32m     <a href='file:///c%3A/Users/adity/miniforge3/envs/torch/lib/site-packages/torch/optim/_functional.py?line=95'>96</a>\u001b[0m \u001b[39m# Decay the first and second moment running average coefficient\u001b[39;00m\n\u001b[1;32m---> <a href='file:///c%3A/Users/adity/miniforge3/envs/torch/lib/site-packages/torch/optim/_functional.py?line=96'>97</a>\u001b[0m exp_avg\u001b[39m.\u001b[39;49mmul_(beta1)\u001b[39m.\u001b[39madd_(grad, alpha\u001b[39m=\u001b[39m\u001b[39m1\u001b[39m \u001b[39m-\u001b[39m beta1)\n\u001b[0;32m     <a href='file:///c%3A/Users/adity/miniforge3/envs/torch/lib/site-packages/torch/optim/_functional.py?line=97'>98</a>\u001b[0m exp_avg_sq\u001b[39m.\u001b[39mmul_(beta2)\u001b[39m.\u001b[39maddcmul_(grad, grad\u001b[39m.\u001b[39mconj(), value\u001b[39m=\u001b[39m\u001b[39m1\u001b[39m \u001b[39m-\u001b[39m beta2)\n\u001b[0;32m     <a href='file:///c%3A/Users/adity/miniforge3/envs/torch/lib/site-packages/torch/optim/_functional.py?line=98'>99</a>\u001b[0m \u001b[39mif\u001b[39;00m amsgrad:\n\u001b[0;32m    <a href='file:///c%3A/Users/adity/miniforge3/envs/torch/lib/site-packages/torch/optim/_functional.py?line=99'>100</a>\u001b[0m     \u001b[39m# Maintains the maximum of all 2nd moment running avg. till now\u001b[39;00m\n",
      "\u001b[1;31mKeyboardInterrupt\u001b[0m: "
     ]
    }
   ],
   "source": [
    "p2_train_loss = []\n",
    "p2_validation_loss = []\n",
    "p2_train_accuracy = []\n",
    "p2_validation_accuracy = []\n",
    "\n",
    "model = LeNet_BatchNorm().to(device)\n",
    "optimizer = optim.SGD(model.parameters(), lr=0.001)\n",
    "\n",
    "\n",
    "for epoch in range(epochs):\n",
    "\n",
    "    # Validation Phase\n",
    "    print(f\"[Validation] Epoch: {epoch}\")\n",
    "    val_loss, val_acc = validate(model, val_loader, device)\n",
    "\n",
    "    # Training Phase\n",
    "    print(f\"[Training] Epoch: {epoch}\")\n",
    "    train_loss, train_acc = train(model, train_loader, optimizer, device)\n",
    "\n",
    "    p2_train_loss.append(train_loss)\n",
    "    p2_validation_loss.append(val_loss)\n",
    "    p2_train_accuracy.append(train_acc)\n",
    "    p2_validation_accuracy.append(val_acc)\n"
   ]
  },
  {
   "cell_type": "code",
   "execution_count": null,
   "metadata": {},
   "outputs": [],
   "source": [
    "print(model)"
   ]
  },
  {
   "cell_type": "code",
   "execution_count": null,
   "metadata": {},
   "outputs": [],
   "source": [
    "bn_weights = [\n",
    "    model.convlayers[2].weight.cpu().detach().numpy(),\n",
    "    model.convlayers[6].weight.cpu().detach().numpy(),\n",
    "    model.convlayers[10].weight.cpu().detach().numpy(),\n",
    "    model.fc[2].weight.cpu().detach().numpy(),\n",
    "]\n",
    "\n",
    "bn_bias = [\n",
    "    model.convlayers[2].bias.cpu().detach().numpy(),\n",
    "    model.convlayers[6].bias.cpu().detach().numpy(),\n",
    "    model.convlayers[10].bias.cpu().detach().numpy(),\n",
    "    model.fc[2].bias.cpu().detach().numpy(),\n",
    "]"
   ]
  },
  {
   "cell_type": "code",
   "execution_count": null,
   "metadata": {},
   "outputs": [],
   "source": [
    "# violin plot for weights & biases\n",
    "fig = plt.figure()\n",
    "ax = fig.add_axes([0,0,1,1])\n",
    "gamma = ax.violinplot(bn_weights)\n",
    "\n",
    "plt.title(\"Violin Plot for Gamma\")\n",
    "plt.xlabel(\"Batchnorm Layer Number\")\n",
    "plt.show()"
   ]
  },
  {
   "cell_type": "code",
   "execution_count": null,
   "metadata": {},
   "outputs": [],
   "source": [
    "fig = plt.figure()\n",
    "ax = fig.add_axes([0,0,1,1])\n",
    "beta = ax.violinplot(bn_bias)\n",
    "plt.title(\"Violin Plot for Beta\")\n",
    "plt.xlabel(\"Batchnorm Layer Number\")\n",
    "plt.show()"
   ]
  },
  {
   "cell_type": "markdown",
   "metadata": {},
   "source": [
    "# Part 3"
   ]
  },
  {
   "cell_type": "code",
   "execution_count": null,
   "metadata": {},
   "outputs": [],
   "source": [
    "train_dataset = datasets.MNIST(root=\"MNIST\", train=True, transform=p3_transformations, download=True)\n",
    "val_dataset = datasets.MNIST(root=\"MNIST\", train=False, transform=p3_transformations, download=True)\n",
    "\n",
    "train_loader = torch.utils.data.DataLoader(dataset=train_dataset, batch_size=batch_size, shuffle=True, num_workers=2)\n",
    "val_loader = torch.utils.data.DataLoader(dataset=val_dataset, batch_size=batch_size, shuffle=True, num_workers=2)\n"
   ]
  },
  {
   "cell_type": "code",
   "execution_count": null,
   "metadata": {},
   "outputs": [],
   "source": [
    "p3_train_loss = []\n",
    "p3_validation_loss = []\n",
    "p3_train_accuracy = []\n",
    "p3_validation_accuracy = []\n",
    "\n",
    "model = LeNet_InputBatchNorm().to(device)\n",
    "optimizer = optim.SGD(model.parameters())\n",
    "\n",
    "\n",
    "for epoch in range(epochs):\n",
    "\n",
    "    # Training Phase\n",
    "    print(f\"[Training] Epoch: {epoch}\")\n",
    "    train_loss, train_acc = train(model, train_loader, optimizer, device)\n",
    "\n",
    "    # Validation Phase\n",
    "    print(f\"[Validation] Epoch: {epoch}\")\n",
    "    val_loss, val_acc = validate(model, val_loader, device)\n",
    "\n",
    "    p3_train_loss.append(train_loss)\n",
    "    p3_validation_loss.append(val_loss)\n",
    "    p3_train_accuracy.append(train_acc)\n",
    "    p3_validation_accuracy.append(val_acc)\n"
   ]
  },
  {
   "cell_type": "code",
   "execution_count": null,
   "metadata": {},
   "outputs": [],
   "source": [
    "print(model)"
   ]
  },
  {
   "cell_type": "code",
   "execution_count": null,
   "metadata": {},
   "outputs": [],
   "source": [
    "bn_weights = [\n",
    "    model.convlayers[0].weight.cpu().detach().numpy(),\n",
    "    model.convlayers[3].weight.cpu().detach().numpy(),\n",
    "    model.convlayers[7].weight.cpu().detach().numpy(),\n",
    "    model.convlayers[11].weight.cpu().detach().numpy(),\n",
    "    model.fc[2].weight.cpu().detach().numpy(),\n",
    "]\n",
    "\n",
    "bn_bias = [\n",
    "    model.convlayers[0].weight.cpu().detach().numpy(),\n",
    "    model.convlayers[3].bias.cpu().detach().numpy(),\n",
    "    model.convlayers[7].bias.cpu().detach().numpy(),\n",
    "    model.convlayers[11].bias.cpu().detach().numpy(),\n",
    "    model.fc[2].bias.cpu().detach().numpy(),\n",
    "]"
   ]
  },
  {
   "cell_type": "code",
   "execution_count": null,
   "metadata": {},
   "outputs": [],
   "source": [
    "# violin plot for weights & biases\n",
    "fig = plt.figure()\n",
    "ax = fig.add_axes([0,0,1,1])\n",
    "gamma = ax.violinplot(bn_weights)\n",
    "\n",
    "plt.title(\"Violin Plot for Gamma\")\n",
    "plt.xlabel(\"Batchnorm Layer Number\")\n",
    "plt.show()"
   ]
  },
  {
   "cell_type": "code",
   "execution_count": null,
   "metadata": {},
   "outputs": [],
   "source": [
    "fig = plt.figure()\n",
    "ax = fig.add_axes([0,0,1,1])\n",
    "beta = ax.violinplot(bn_bias)\n",
    "plt.title(\"Violin Plot for Beta\")\n",
    "plt.xlabel(\"Batchnorm Layer Number\")\n",
    "plt.show()"
   ]
  },
  {
   "cell_type": "code",
   "execution_count": null,
   "metadata": {},
   "outputs": [],
   "source": [
    "plt.title(\"Input Standard Norm vs Input Batch Norm\")\n",
    "plt.ylabel(\"Training Accuracy\")\n",
    "plt.xlabel(\"Epochs\")\n",
    "\n",
    "plt.plot(range(1, epochs+1), p2_train_accuracy, label=\"Input Standard Norm\")\n",
    "plt.plot(range(1, epochs+1), p3_train_accuracy, label=\"Input Batch Norm\")\n",
    "plt.legend()"
   ]
  },
  {
   "cell_type": "code",
   "execution_count": null,
   "metadata": {},
   "outputs": [],
   "source": [
    "plt.title(\"Input Batch Norm vs Input Standard Norm\")\n",
    "plt.ylabel(\"Validation Accuracy\")\n",
    "plt.xlabel(\"Epochs\")\n",
    "\n",
    "plt.plot(range(1, epochs+1), p2_validation_accuracy, label=\"Input Standard Norm\")\n",
    "plt.plot(range(1, epochs+1), p3_validation_accuracy, label=\"Input Batch Norm\")\n",
    "\n",
    "plt.legend()"
   ]
  },
  {
   "cell_type": "markdown",
   "metadata": {},
   "source": [
    "# Part 4"
   ]
  },
  {
   "cell_type": "code",
   "execution_count": null,
   "metadata": {},
   "outputs": [],
   "source": [
    "train_dataset = datasets.MNIST(root=\"MNIST\", train=True, transform=p4_transformations, download=True)\n",
    "val_dataset = datasets.MNIST(root=\"MNIST\", train=False, transform=p4_transformations, download=True)\n",
    "\n",
    "train_loader = torch.utils.data.DataLoader(dataset=train_dataset, batch_size=batch_size, shuffle=True, num_workers=2)\n",
    "val_loader = torch.utils.data.DataLoader(dataset=val_dataset, batch_size=batch_size, shuffle=True, num_workers=2)\n"
   ]
  },
  {
   "cell_type": "code",
   "execution_count": null,
   "metadata": {},
   "outputs": [],
   "source": [
    "p4_train_loss = []\n",
    "p4_validation_loss = []\n",
    "p4_train_accuracy = []\n",
    "p4_validation_accuracy = []\n",
    "\n",
    "model = LeNet_Dropout().to(device)\n",
    "optimizer = optim.SGD(model.parameters())\n",
    "\n",
    "\n",
    "for epoch in range(epochs):\n",
    "\n",
    "    # Training Phase\n",
    "    print(f\"[Training] Epoch: {epoch}\")\n",
    "    train_loss, train_acc = train(model, train_loader, optimizer, device)\n",
    "\n",
    "    # Validation Phase\n",
    "    print(f\"[Validation] Epoch: {epoch}\")\n",
    "    val_loss, val_acc = validate(model, val_loader, device)\n",
    "\n",
    "    p4_train_loss.append(train_loss)\n",
    "    p4_validation_loss.append(val_loss)\n",
    "    p4_train_accuracy.append(train_acc)\n",
    "    p4_validation_accuracy.append(val_acc)\n"
   ]
  },
  {
   "cell_type": "code",
   "execution_count": null,
   "metadata": {},
   "outputs": [],
   "source": [
    "print(model)"
   ]
  },
  {
   "cell_type": "code",
   "execution_count": null,
   "metadata": {},
   "outputs": [],
   "source": [
    "plt.title(\"Input Batch Norm vs Input Standard Norm\")\n",
    "plt.ylabel(\"Validation Accuracy\")\n",
    "plt.xlabel(\"Epochs\")\n",
    "\n",
    "plt.plot(range(1, epochs+1), p2_validation_accuracy, label=\"Input Standard Norm\")\n",
    "plt.plot(range(1, epochs+1), p3_validation_accuracy, label=\"Input Batch Norm\")\n",
    "plt.plot(range(1, epochs+1), p4_validation_accuracy, label=\"Dropout\")\n",
    "\n",
    "plt.legend()"
   ]
  },
  {
   "cell_type": "markdown",
   "metadata": {},
   "source": [
    "# Part 5"
   ]
  },
  {
   "cell_type": "code",
   "execution_count": null,
   "metadata": {},
   "outputs": [],
   "source": [
    "train_dataset = datasets.MNIST(root=\"MNIST\", train=True, transform=p5_transformations, download=True)\n",
    "val_dataset = datasets.MNIST(root=\"MNIST\", train=False, transform=p5_transformations, download=True)\n",
    "\n",
    "train_loader = torch.utils.data.DataLoader(dataset=train_dataset, batch_size=batch_size, shuffle=True, num_workers=2)\n",
    "val_loader = torch.utils.data.DataLoader(dataset=val_dataset, batch_size=batch_size, shuffle=True, num_workers=2)\n"
   ]
  },
  {
   "cell_type": "code",
   "execution_count": null,
   "metadata": {},
   "outputs": [],
   "source": [
    "p5_train_loss = []\n",
    "p5_validation_loss = []\n",
    "p5_train_accuracy = []\n",
    "p5_validation_accuracy = []\n",
    "\n",
    "model = LeNet_DropoutBatchNorm().to(device)\n",
    "optimizer = optim.SGD(model.parameters())\n",
    "\n",
    "\n",
    "for epoch in range(epochs):\n",
    "\n",
    "    # Training Phase\n",
    "    print(f\"[Training] Epoch: {epoch}\")\n",
    "    train_loss, train_acc = train(model, train_loader, optimizer, device)\n",
    "\n",
    "    # Validation Phase\n",
    "    print(f\"[Validation] Epoch: {epoch}\")\n",
    "    val_loss, val_acc = validate(model, val_loader, device)\n",
    "\n",
    "    p5_train_loss.append(train_loss)\n",
    "    p5_validation_loss.append(val_loss)\n",
    "    p5_train_accuracy.append(train_acc)\n",
    "    p5_validation_accuracy.append(val_acc)\n"
   ]
  },
  {
   "cell_type": "code",
   "execution_count": null,
   "metadata": {},
   "outputs": [],
   "source": [
    "print(model)"
   ]
  },
  {
   "cell_type": "code",
   "execution_count": null,
   "metadata": {},
   "outputs": [],
   "source": [
    "plt.title(\"Input Batch Norm vs Input Standard Norm\")\n",
    "plt.ylabel(\"Validation Accuracy\")\n",
    "plt.xlabel(\"Epochs\")\n",
    "\n",
    "plt.plot(range(1,  epochs+1), p2_validation_accuracy, label=\"Batch Norm\")\n",
    "plt.plot(range(1,  epochs+1), p4_validation_accuracy, label=\"Dropout\")\n",
    "plt.plot(range(1,  epochs+1), p5_validation_accuracy, label=\"Dropout + Batch Norm\")\n",
    "\n",
    "plt.legend()"
   ]
  }
 ],
 "metadata": {
  "interpreter": {
   "hash": "cd6d8db529fcb6d8412518a5eecbbc3302ab092981e5676bdd98593d89df19c6"
  },
  "kernelspec": {
   "display_name": "Python 3.9.10 ('torch')",
   "language": "python",
   "name": "python3"
  },
  "language_info": {
   "codemirror_mode": {
    "name": "ipython",
    "version": 3
   },
   "file_extension": ".py",
   "mimetype": "text/x-python",
   "name": "python",
   "nbconvert_exporter": "python",
   "pygments_lexer": "ipython3",
   "version": "3.9.10"
  },
  "orig_nbformat": 4
 },
 "nbformat": 4,
 "nbformat_minor": 2
}
