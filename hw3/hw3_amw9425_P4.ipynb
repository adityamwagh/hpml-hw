{
  "cells": [
    {
      "cell_type": "code",
      "execution_count": null,
      "metadata": {
        "id": "2ikpFeVyPch1"
      },
      "outputs": [],
      "source": [
        "import torch\n",
        "import torch.nn as nn\n",
        "import torch.nn.functional as F\n",
        "import torch.optim as optim\n",
        "from torchvision import datasets, transforms\n",
        "from torch.utils.data import DataLoader\n",
        "import matplotlib.pyplot as plt\n",
        "import time"
      ]
    },
    {
      "cell_type": "code",
      "execution_count": null,
      "metadata": {
        "id": "tawUAmpCPch6"
      },
      "outputs": [],
      "source": [
        "class BasicNet(nn.Module):\n",
        "    def __init__(self):\n",
        "        \n",
        "        super().__init__()\n",
        "        self.linear1 = nn.Linear(32*32*3, 1000)\n",
        "        self.linear2 = nn.Linear(1000, 1000)\n",
        "        self.linear3 = nn.Linear(1000, 10)\n",
        "        self.relu = nn.ReLU()\n",
        "        self.softmax = nn.Softmax(dim=1)\n",
        "\n",
        "    def forward(self, x):\n",
        "        \n",
        "        x = x.view(x.shape[0], -1)\n",
        "        x = self.linear1(x)\n",
        "        x = self.relu(x)\n",
        "        x = self.linear2(x)\n",
        "        x = self.relu(x)\n",
        "        x = self.linear3(x)\n",
        "        x = self.relu(x)\n",
        "        x = self.softmax(x)\n",
        "\n",
        "        return x\n",
        "\n",
        "class BasicDropoutNet(nn.Module):\n",
        "    def __init__(self):\n",
        "        \n",
        "        super().__init__()\n",
        "        self.drop1 = nn.Dropout(0.2)\n",
        "        self.linear1 = nn.Linear(32*32*3, 1000)\n",
        "        self.drop2 = nn.Dropout(0.5)\n",
        "        self.linear2 = nn.Linear(1000, 1000)\n",
        "        self.drop3 = nn.Dropout(0.5)\n",
        "        self.linear3 = nn.Linear(1000, 10)\n",
        "        self.relu = nn.ReLU()\n",
        "        self.softmax = nn.Softmax(dim=1)\n",
        "\n",
        "    def forward(self, x):\n",
        "\n",
        "        x = x.view(x.shape[0], -1)\n",
        "        x = self.drop1(x)\n",
        "        x = self.linear1(x)\n",
        "        x = self.relu(x)\n",
        "        x = self.drop2(x)\n",
        "        x = self.linear2(x)\n",
        "        x = self.relu(x)\n",
        "        x = self.drop3(x)\n",
        "        x = self.linear3(x)\n",
        "        x = self.relu(x)\n",
        "        x = self.softmax(x)\n",
        "\n",
        "        return x"
      ]
    },
    {
      "cell_type": "code",
      "execution_count": null,
      "metadata": {
        "id": "9lqbU-ZIPch8"
      },
      "outputs": [],
      "source": [
        "loss_fn = nn.CrossEntropyLoss()\n",
        "batch_size = 128\n",
        "device = \"cuda\" if torch.cuda.is_available() else \"cpu\"\n",
        "epochs = 2\n",
        "lr = 0.001"
      ]
    },
    {
      "cell_type": "code",
      "execution_count": null,
      "metadata": {
        "id": "M0zJEdy4Pch9",
        "outputId": "0771abf0-783d-4dd3-d160-e70367c23afe"
      },
      "outputs": [
        {
          "name": "stdout",
          "output_type": "stream",
          "text": [
            "Files already downloaded and verified\n",
            "Files already downloaded and verified\n"
          ]
        }
      ],
      "source": [
        "transformations = transforms.Compose([transforms.ToTensor(), transforms.Normalize((0.5, 0.5, 0.5), (0.5, 0.5, 0.5))])\n",
        "\n",
        "train_data = datasets.CIFAR10(root=\"CIFAR10\", download=True, train=True, transform=transformations)\n",
        "val_data = datasets.CIFAR10(root=\"CIFAR10\", download=True, train=False, transform=transformations)\n",
        "\n",
        "train_loader = DataLoader(train_data, batch_size=batch_size, shuffle=True, num_workers=2)\n",
        "val_loader = DataLoader(val_data, batch_size=batch_size, shuffle=True, num_workers=2)"
      ]
    },
    {
      "cell_type": "code",
      "execution_count": null,
      "metadata": {
        "id": "J3z99JLyPch_"
      },
      "outputs": [],
      "source": [
        "def train(model, dataloader, optimizer, device=\"cpu\"):\n",
        "    \n",
        "    # store loss & accuracy for each epoch\n",
        "    total_loss = 0.0\n",
        "    total = 0.0\n",
        "    correct = 0.0\n",
        "\n",
        "    model.train()\n",
        "\n",
        "    for images, labels in dataloader:\n",
        "\n",
        "        # send stuff to device\n",
        "        images, labels = images.to(device), labels.to(device)\n",
        "\n",
        "        # forward pass\n",
        "        preds = model(images)\n",
        "\n",
        "        # compute loss with L2-regularization\n",
        "        loss = loss_fn(preds, labels)\n",
        "\n",
        "        l2_lambda = 0.001\n",
        "        l2_norm = sum(p.pow(2.0).sum() for p in model.parameters())\n",
        "        loss = loss + l2_lambda * l2_norm\n",
        "\n",
        "        # gradient descent\n",
        "        optimizer.zero_grad()\n",
        "        loss.backward()\n",
        "        optimizer.step()\n",
        "        \n",
        "        # loss and accuracy calculations\n",
        "        total_loss += preds.shape[0] * loss.item()\n",
        "        _, predicted = torch.max(preds.data, 1)\n",
        "        total += labels.size(0)\n",
        "        correct += (predicted == labels).sum().item()\n",
        "                \n",
        "    train_loss = total_loss / total\n",
        "    train_accuracy = correct / total\n",
        "\n",
        "    print(f\"[Training] Loss: {train_loss}, Accuracy: {train_accuracy}\")\n",
        "    \n",
        "    return train_loss, train_accuracy"
      ]
    },
    {
      "cell_type": "code",
      "execution_count": null,
      "metadata": {
        "id": "xzCTL1XLPciB"
      },
      "outputs": [],
      "source": [
        "def validate(model, dataloader, device=\"cpu\"):\n",
        "    \n",
        "    # store loss & accuracy for each epoch\n",
        "    total_loss = 0.0\n",
        "    total = 0.0\n",
        "    correct = 0.0\n",
        "\n",
        "    model.eval()\n",
        "    with torch.no_grad():\n",
        "        for images, labels in dataloader:\n",
        "\n",
        "            # send stuff to device\n",
        "            images, labels = images.to(device), labels.to(device)\n",
        "\n",
        "            # forward pass\n",
        "            preds = model(images)\n",
        "\n",
        "            # compute loss\n",
        "            loss = loss_fn(preds, labels)\n",
        "\n",
        "            # loss and accuracy calculations\n",
        "            total_loss += preds.shape[0] * loss.item()\n",
        "            _, predicted = torch.max(preds.data, 1)\n",
        "            total += labels.size(0)\n",
        "            correct += (predicted == labels).sum().item()\n",
        "                \n",
        "    val_loss = total_loss / total\n",
        "    val_accuracy = correct / total\n",
        "\n",
        "    print(f\"[Validation] Loss: {val_loss}, Accuracy: {val_accuracy}\")\n",
        "\n",
        "    return val_loss, val_accuracy"
      ]
    },
    {
      "cell_type": "markdown",
      "metadata": {
        "id": "hhElruNIPciD"
      },
      "source": [
        "# AdaGrad"
      ]
    },
    {
      "cell_type": "markdown",
      "metadata": {
        "id": "yOSBd4G5PciH"
      },
      "source": [
        "## L2 Only"
      ]
    },
    {
      "cell_type": "code",
      "execution_count": null,
      "metadata": {
        "id": "AW3XiGODPciI"
      },
      "outputs": [],
      "source": [
        "adagrad_L2_train_loss = []\n",
        "adagrad_L2_validation_loss = []\n",
        "adagrad_L2_train_accuracy = []\n",
        "adagrad_L2_validation_accuracy = []"
      ]
    },
    {
      "cell_type": "code",
      "execution_count": null,
      "metadata": {
        "id": "ywtrHzdAPciK",
        "outputId": "065451cb-ce07-486e-8598-8b5e88376f7a"
      },
      "outputs": [
        {
          "name": "stdout",
          "output_type": "stream",
          "text": [
            "[Started Training with AdaGrad]\n",
            "[Training] Epoch: 0\n",
            "[Training] Loss: 2.3102642223358156, Accuracy: 0.34022\n",
            "[Validation] Epoch: 0\n",
            "[Validation] Loss: 2.0821542793273924, Accuracy: 0.3841\n",
            "[Training] Epoch: 1\n",
            "[Training] Loss: 2.172628790435791, Accuracy: 0.39756\n",
            "[Validation] Epoch: 1\n",
            "[Validation] Loss: 2.063885781097412, Accuracy: 0.4041\n",
            "[Finished Training with AdaGrad]\n",
            "\n",
            "Total Training Time: 30.609000000054948\n"
          ]
        }
      ],
      "source": [
        "model = BasicNet().to(device)\n",
        "adagrad_optimizer = optim.Adagrad(model.parameters(), lr=lr)\n",
        "\n",
        "print(f\"[Started Training with AdaGrad]\")\n",
        "\n",
        "train_time = 0.0\n",
        "for epoch in range(epochs):\n",
        "\n",
        "    # Training Phase\n",
        "    print(f\"[Training] Epoch: {epoch}\")\n",
        "    start = time.monotonic()\n",
        "    train_loss, train_acc = train(model, train_loader, adagrad_optimizer, device)\n",
        "    end = time.monotonic()\n",
        "    train_time += (end - start)\n",
        "\n",
        "    # Validation Phase\n",
        "    print(f\"[Validation] Epoch: {epoch}\")\n",
        "    val_loss, val_acc = validate(model, val_loader, device)\n",
        "\n",
        "    adagrad_L2_train_loss.append(train_loss)\n",
        "    adagrad_L2_validation_loss.append(val_loss)\n",
        "    adagrad_L2_train_accuracy.append(train_acc)\n",
        "    adagrad_L2_validation_accuracy.append(val_acc)\n",
        "\n",
        "print(f\"[Finished Training with AdaGrad]\", end=\"\\n\\n\")\n",
        "print(f\"Total Training Time: {train_time}\")"
      ]
    },
    {
      "cell_type": "markdown",
      "metadata": {
        "id": "i9TtdcZuPciM"
      },
      "source": [
        "## L2 + Dropout"
      ]
    },
    {
      "cell_type": "code",
      "execution_count": null,
      "metadata": {
        "id": "brFUO6I9PciM"
      },
      "outputs": [],
      "source": [
        "adagrad_L2D_train_loss = []\n",
        "adagrad_L2D_validation_loss = []\n",
        "adagrad_L2D_train_accuracy = []\n",
        "adagrad_L2D_validation_accuracy = []"
      ]
    },
    {
      "cell_type": "code",
      "execution_count": null,
      "metadata": {
        "id": "P_ZbzlPnPciN",
        "outputId": "479740ae-3da9-4e2e-ca96-732f3a9e4ce9"
      },
      "outputs": [
        {
          "name": "stdout",
          "output_type": "stream",
          "text": [
            "[Started Training with AdaGrad]\n",
            "[Training] Epoch: 0\n",
            "[Training] Loss: 2.4261113577270508, Accuracy: 0.33176\n",
            "[Validation] Epoch: 0\n",
            "[Validation] Loss: 2.0893041347503662, Accuracy: 0.3754\n",
            "[Training] Epoch: 1\n",
            "[Training] Loss: 2.2800073849487306, Accuracy: 0.37774\n",
            "[Validation] Epoch: 1\n",
            "[Validation] Loss: 2.0688642402648925, Accuracy: 0.401\n",
            "[Finished Training with AdaGrad]\n",
            "\n",
            "Total Training Time: 28.31200000003446\n"
          ]
        }
      ],
      "source": [
        "model = BasicDropoutNet().to(device)\n",
        "adagrad_optimizer = optim.Adagrad(model.parameters(), lr=lr)\n",
        "\n",
        "print(f\"[Started Training with AdaGrad]\")\n",
        "\n",
        "train_time = 0.0\n",
        "for epoch in range(epochs):\n",
        "\n",
        "    # Training Phase\n",
        "    print(f\"[Training] Epoch: {epoch}\")\n",
        "    start = time.monotonic()\n",
        "    train_loss, train_acc = train(model, train_loader, adagrad_optimizer, device)\n",
        "    end = time.monotonic()\n",
        "    train_time += (end - start)\n",
        "\n",
        "    # Validation Phase\n",
        "    print(f\"[Validation] Epoch: {epoch}\")\n",
        "    val_loss, val_acc = validate(model, val_loader, device)\n",
        "\n",
        "    adagrad_L2D_train_loss.append(train_loss)\n",
        "    adagrad_L2D_validation_loss.append(val_loss)\n",
        "    adagrad_L2D_train_accuracy.append(train_acc)\n",
        "    adagrad_L2D_validation_accuracy.append(val_acc)\n",
        "\n",
        "print(f\"[Finished Training with AdaGrad]\", end=\"\\n\\n\")\n",
        "print(f\"Total Training Time: {train_time}\")"
      ]
    },
    {
      "cell_type": "markdown",
      "metadata": {
        "id": "xD9ltveDPciN"
      },
      "source": [
        "# RMSProp"
      ]
    },
    {
      "cell_type": "code",
      "execution_count": null,
      "metadata": {
        "id": "AnfrojBtPciO"
      },
      "outputs": [],
      "source": [
        "rmsprop_L2_train_loss = []\n",
        "rmsprop_L2_validation_loss = []\n",
        "rmsprop_L2_train_accuracy = []\n",
        "rmsprop_L2_validation_accuracy = []"
      ]
    },
    {
      "cell_type": "code",
      "execution_count": null,
      "metadata": {
        "id": "Bo4PPHTPPciO",
        "outputId": "3107d540-f300-471a-aa63-b8f9071821a4"
      },
      "outputs": [
        {
          "name": "stdout",
          "output_type": "stream",
          "text": [
            "[Started Training with RMSProp]\n",
            "[Training] Epoch: 0\n",
            "[Training] Loss: 2.243933860321045, Accuracy: 0.27428\n",
            "[Validation] Epoch: 0\n",
            "[Validation] Loss: 2.1356786708831788, Accuracy: 0.3134\n",
            "[Training] Epoch: 1\n",
            "[Training] Loss: 2.1740883713531494, Accuracy: 0.34922\n",
            "[Validation] Epoch: 1\n",
            "[Validation] Loss: 2.0915873737335207, Accuracy: 0.3644\n",
            "[Finished Training with RMSProp]\n",
            "\n",
            "Total Training Time: 28.094000000040978\n"
          ]
        }
      ],
      "source": [
        "model = BasicNet().to(device)\n",
        "rmsp_optimizer = optim.RMSprop(model.parameters(), lr=lr)\n",
        "\n",
        "print(f\"[Started Training with RMSProp]\")\n",
        "\n",
        "train_time = 0.0\n",
        "for epoch in range(epochs):\n",
        "\n",
        "    # Training Phase\n",
        "    print(f\"[Training] Epoch: {epoch}\")\n",
        "    start = time.monotonic()\n",
        "    train_loss, train_acc = train(model, train_loader, rmsp_optimizer, device)\n",
        "    end = time.monotonic()\n",
        "    train_time += (end - start)\n",
        "    \n",
        "    # Validation Phase\n",
        "    print(f\"[Validation] Epoch: {epoch}\")\n",
        "    val_loss, val_acc = validate(model, val_loader, device)\n",
        "\n",
        "    rmsprop_L2_train_loss.append(train_loss)\n",
        "    rmsprop_L2_validation_loss.append(val_loss)\n",
        "    rmsprop_L2_train_accuracy.append(train_acc)\n",
        "    rmsprop_L2_validation_accuracy.append(val_acc)\n",
        "\n",
        "print(f\"[Finished Training with RMSProp]\", end=\"\\n\\n\")\n",
        "print(f\"Total Training Time: {train_time}\")"
      ]
    },
    {
      "cell_type": "code",
      "execution_count": null,
      "metadata": {
        "id": "7l4SLMdAPciO"
      },
      "outputs": [],
      "source": [
        "rmsprop_L2D_train_loss = []\n",
        "rmsprop_L2D_validation_loss = []\n",
        "rmsprop_L2D_train_accuracy = []\n",
        "rmsprop_L2D_validation_accuracy = []"
      ]
    },
    {
      "cell_type": "code",
      "execution_count": null,
      "metadata": {
        "id": "-okllazWPciP",
        "outputId": "93617e42-497d-485d-9617-bf46cc3e2aa0"
      },
      "outputs": [
        {
          "name": "stdout",
          "output_type": "stream",
          "text": [
            "[Started Training with RMSProp]\n",
            "[Training] Epoch: 0\n",
            "[Training] Loss: 2.341791583328247, Accuracy: 0.20202\n",
            "[Validation] Epoch: 0\n",
            "[Validation] Loss: 2.172771076965332, Accuracy: 0.2781\n",
            "[Training] Epoch: 1\n",
            "[Training] Loss: 2.3036369523620603, Accuracy: 0.29982\n",
            "[Validation] Epoch: 1\n",
            "[Validation] Loss: 2.1390167976379395, Accuracy: 0.3136\n",
            "[Finished Training with RMSProp]\n",
            "\n",
            "Total Training Time: 29.20200000004843\n"
          ]
        }
      ],
      "source": [
        "model = BasicDropoutNet().to(device)\n",
        "rmsp_optimizer = optim.RMSprop(model.parameters(), lr=lr)\n",
        "\n",
        "print(f\"[Started Training with RMSProp]\")\n",
        "\n",
        "train_time = 0.0\n",
        "for epoch in range(epochs):\n",
        "\n",
        "    # Training Phase\n",
        "    print(f\"[Training] Epoch: {epoch}\")\n",
        "    start = time.monotonic()\n",
        "    train_loss, train_acc = train(model, train_loader, rmsp_optimizer, device)\n",
        "    end = time.monotonic()\n",
        "    train_time += (end - start)\n",
        "\n",
        "    # Validation Phase\n",
        "    print(f\"[Validation] Epoch: {epoch}\")\n",
        "    val_loss, val_acc = validate(model, val_loader, device)\n",
        "\n",
        "    rmsprop_L2D_train_loss.append(train_loss)\n",
        "    rmsprop_L2D_validation_loss.append(val_loss)\n",
        "    rmsprop_L2D_train_accuracy.append(train_acc)\n",
        "    rmsprop_L2D_validation_accuracy.append(val_acc)\n",
        "\n",
        "print(f\"[Finished Training with RMSProp]\", end=\"\\n\\n\")\n",
        "print(f\"Total Training Time: {train_time}\")"
      ]
    },
    {
      "cell_type": "markdown",
      "metadata": {
        "id": "PjQ_ZMFEPciP"
      },
      "source": [
        "# Adam+Nesterov instead of RMSProp+Nesterov"
      ]
    },
    {
      "cell_type": "code",
      "execution_count": null,
      "metadata": {
        "id": "58rJxpZQPciP"
      },
      "outputs": [],
      "source": [
        "nadam_L2_train_loss = []\n",
        "nadam_L2_validation_loss = []\n",
        "nadam_L2_train_accuracy = []\n",
        "nadam_L2_validation_accuracy = []"
      ]
    },
    {
      "cell_type": "code",
      "execution_count": null,
      "metadata": {
        "id": "L4Kun6ohPciQ",
        "outputId": "85c26ecd-8ffc-4c17-8579-5f444e75efd2"
      },
      "outputs": [
        {
          "name": "stdout",
          "output_type": "stream",
          "text": [
            "[Started Training with Adam+Nesterov]\n",
            "[Training] Epoch: 0\n",
            "[Training] Loss: 2.236728454360962, Accuracy: 0.29398\n",
            "[Validation] Epoch: 0\n",
            "[Validation] Loss: 2.10692507019043, Accuracy: 0.3466\n",
            "[Training] Epoch: 1\n",
            "[Training] Loss: 2.1723706314849855, Accuracy: 0.35136\n",
            "[Validation] Epoch: 1\n",
            "[Validation] Loss: 2.0976485988616944, Accuracy: 0.358\n",
            "[Finished Training with Adam+Nesterov]\n",
            "\n",
            "Total Training Time: 28.875000000116415\n"
          ]
        }
      ],
      "source": [
        "model = BasicNet().to(device)\n",
        "nadam_optimizer = optim.NAdam(model.parameters(), lr=lr)\n",
        "\n",
        "print(f\"[Started Training with Adam+Nesterov]\")\n",
        "\n",
        "train_time = 0.0\n",
        "for epoch in range(epochs):\n",
        "\n",
        "    # Training Phase\n",
        "    print(f\"[Training] Epoch: {epoch}\")\n",
        "    start = time.monotonic()\n",
        "    train_loss, train_acc = train(model, train_loader, nadam_optimizer, device)\n",
        "    end = time.monotonic()\n",
        "    train_time += (end - start)\n",
        "\n",
        "    # Validation Phase\n",
        "    print(f\"[Validation] Epoch: {epoch}\")\n",
        "    val_loss, val_acc = validate(model, val_loader, device)\n",
        "\n",
        "    nadam_L2_train_loss.append(train_loss)\n",
        "    nadam_L2_validation_loss.append(val_loss)\n",
        "    nadam_L2_train_accuracy.append(train_acc)\n",
        "    nadam_L2_validation_accuracy.append(val_acc)\n",
        "\n",
        "print(f\"[Finished Training with Adam+Nesterov]\", end=\"\\n\\n\")\n",
        "print(f\"Total Training Time: {train_time}\")"
      ]
    },
    {
      "cell_type": "code",
      "execution_count": null,
      "metadata": {
        "id": "vuLEdv8tPciQ"
      },
      "outputs": [],
      "source": [
        "nadam_L2D_train_loss = []\n",
        "nadam_L2D_validation_loss = []\n",
        "nadam_L2D_train_accuracy = []\n",
        "nadam_L2D_validation_accuracy = []"
      ]
    },
    {
      "cell_type": "code",
      "execution_count": null,
      "metadata": {
        "id": "Hi1fi1sqPciQ",
        "outputId": "746f804a-6c9f-46db-870f-e69b77fc5507"
      },
      "outputs": [
        {
          "name": "stdout",
          "output_type": "stream",
          "text": [
            "[Started Training with Adam+Nesterov]\n",
            "[Training] Epoch: 0\n",
            "[Training] Loss: 2.345062820739746, Accuracy: 0.29746\n",
            "[Validation] Epoch: 0\n",
            "[Validation] Loss: 2.1212386558532716, Accuracy: 0.3306\n",
            "[Training] Epoch: 1\n",
            "[Training] Loss: 2.3040321712493896, Accuracy: 0.31816\n",
            "[Validation] Epoch: 1\n",
            "[Validation] Loss: 2.134014139175415, Accuracy: 0.3197\n",
            "[Finished Training with Adam+Nesterov]\n",
            "\n",
            "Total Training Time: 28.391000000061467\n"
          ]
        }
      ],
      "source": [
        "model = BasicDropoutNet().to(device)\n",
        "nadam_optimizer = optim.NAdam(model.parameters(), lr=lr)\n",
        "\n",
        "print(f\"[Started Training with Adam+Nesterov]\")\n",
        "\n",
        "train_time = 0.0\n",
        "for epoch in range(epochs):\n",
        "\n",
        "    # Training Phase\n",
        "    print(f\"[Training] Epoch: {epoch}\")\n",
        "    start = time.monotonic()\n",
        "    train_loss, train_acc = train(model, train_loader, nadam_optimizer, device)\n",
        "    end = time.monotonic()\n",
        "    train_time += (end - start)\n",
        "    \n",
        "    # Validation Phase\n",
        "    print(f\"[Validation] Epoch: {epoch}\")\n",
        "    val_loss, val_acc = validate(model, val_loader, device)\n",
        "\n",
        "    nadam_L2D_train_loss.append(train_loss)\n",
        "    nadam_L2D_validation_loss.append(val_loss)\n",
        "    nadam_L2D_train_accuracy.append(train_acc)\n",
        "    nadam_L2D_validation_accuracy.append(val_acc)\n",
        "\n",
        "print(f\"[Finished Training with Adam+Nesterov]\", end=\"\\n\\n\")\n",
        "print(f\"Total Training Time: {train_time}\")"
      ]
    },
    {
      "cell_type": "markdown",
      "metadata": {
        "id": "wrPYSpPoPciR"
      },
      "source": [
        "# AdaDelta"
      ]
    },
    {
      "cell_type": "code",
      "execution_count": null,
      "metadata": {
        "id": "4CiiV6EQPciR"
      },
      "outputs": [],
      "source": [
        "adadelta_L2_train_loss = []\n",
        "adadelta_L2_validation_loss = []\n",
        "adadelta_L2_train_accuracy = []\n",
        "adadelta_L2_validation_accuracy = []"
      ]
    },
    {
      "cell_type": "code",
      "execution_count": null,
      "metadata": {
        "id": "1ysVAfWHPciR",
        "outputId": "4c9e9d98-0980-45b7-ef13-93b8e169d22e"
      },
      "outputs": [
        {
          "name": "stdout",
          "output_type": "stream",
          "text": [
            "[Started Training with AdaDelta]\n",
            "[Training] Epoch: 0\n",
            "[Training] Loss: 2.9713887866210937, Accuracy: 0.11606\n",
            "[Validation] Epoch: 0\n",
            "[Validation] Loss: 2.3023068241119384, Accuracy: 0.1151\n",
            "[Training] Epoch: 1\n",
            "[Training] Loss: 2.9701991413116455, Accuracy: 0.12232\n",
            "[Validation] Epoch: 1\n",
            "[Validation] Loss: 2.3021559761047365, Accuracy: 0.1209\n",
            "[Finished Training with AdaDelta]\n",
            "\n",
            "Total Training Time: 33.60899999993853\n"
          ]
        }
      ],
      "source": [
        "model = BasicNet().to(device)\n",
        "adadelta_optimizer = optim.Adadelta(model.parameters(), lr=lr)\n",
        "\n",
        "print(f\"[Started Training with AdaDelta]\")\n",
        "\n",
        "train_time = 0.0\n",
        "for epoch in range(epochs):\n",
        "\n",
        "    # Training Phase\n",
        "    print(f\"[Training] Epoch: {epoch}\")\n",
        "    start = time.monotonic()\n",
        "    train_loss, train_acc = train(model, train_loader, adadelta_optimizer, device)\n",
        "    end = time.monotonic()\n",
        "    train_time += (end - start)\n",
        "    \n",
        "    # Validation Phase\n",
        "    print(f\"[Validation] Epoch: {epoch}\")\n",
        "    val_loss, val_acc = validate(model, val_loader, device)\n",
        "\n",
        "    adadelta_L2_train_loss.append(train_loss)\n",
        "    adadelta_L2_validation_loss.append(val_loss)\n",
        "    adadelta_L2_train_accuracy.append(train_acc)\n",
        "    adadelta_L2_validation_accuracy.append(val_acc)\n",
        "\n",
        "print(f\"[Finished Training with AdaDelta]\", end=\"\\n\\n\")\n",
        "print(f\"Total Training Time: {train_time}\")"
      ]
    },
    {
      "cell_type": "code",
      "execution_count": null,
      "metadata": {
        "id": "FxwN-A1lPciS"
      },
      "outputs": [],
      "source": [
        "adadelta_L2D_train_loss = []\n",
        "adadelta_L2D_validation_loss = []\n",
        "adadelta_L2D_train_accuracy = []\n",
        "adadelta_L2D_validation_accuracy = []"
      ]
    },
    {
      "cell_type": "code",
      "execution_count": null,
      "metadata": {
        "id": "choPHo_yPciS",
        "outputId": "e235c0bc-e647-4ace-cb01-7152fc201624"
      },
      "outputs": [
        {
          "name": "stdout",
          "output_type": "stream",
          "text": [
            "[Started Training with AdaDelta]\n",
            "[Training] Epoch: 0\n",
            "[Training] Loss: 2.9724113273620607, Accuracy: 0.08796\n",
            "[Validation] Epoch: 0\n",
            "[Validation] Loss: 2.302974856185913, Accuracy: 0.0754\n",
            "[Training] Epoch: 1\n",
            "[Training] Loss: 2.971285462036133, Accuracy: 0.09236\n",
            "[Validation] Epoch: 1\n",
            "[Validation] Loss: 2.3028593906402586, Accuracy: 0.0841\n",
            "[Finished Training with AdaDelta]\n",
            "\n",
            "Total Training Time: 62.64100000006147\n"
          ]
        }
      ],
      "source": [
        "#  L2 + Dropout\n",
        "model = BasicDropoutNet().to(device)\n",
        "adadelta_optimizer = optim.Adadelta(model.parameters(), lr=lr)\n",
        "\n",
        "print(f\"[Started Training with AdaDelta]\")\n",
        "\n",
        "tarin_time = 0.0\n",
        "for epoch in range(epochs):\n",
        "\n",
        "    # Training Phase\n",
        "    print(f\"[Training] Epoch: {epoch}\")\n",
        "    start = time.monotonic()\n",
        "    train_loss, train_acc = train(model, train_loader, adadelta_optimizer, device)\n",
        "    end = time.monotonic()\n",
        "    train_time += (end - start)\n",
        "\n",
        "    # Validation Phase\n",
        "    print(f\"[Validation] Epoch: {epoch}\")\n",
        "    val_loss, val_acc = validate(model, val_loader, device)\n",
        "\n",
        "    adadelta_L2D_train_loss.append(train_loss)\n",
        "    adadelta_L2D_validation_loss.append(val_loss)\n",
        "    adadelta_L2D_train_accuracy.append(train_acc)\n",
        "    adadelta_L2D_validation_accuracy.append(val_acc)\n",
        "\n",
        "print(f\"[Finished Training with AdaDelta]\", end=\"\\n\\n\")\n",
        "print(f\"Total Training Time: {train_time}\")"
      ]
    },
    {
      "cell_type": "markdown",
      "metadata": {
        "id": "PudDj3udPciS"
      },
      "source": [
        "# Adam"
      ]
    },
    {
      "cell_type": "code",
      "execution_count": null,
      "metadata": {
        "id": "yYx0xfqNPciT"
      },
      "outputs": [],
      "source": [
        "adam_L2_train_loss = []\n",
        "adam_L2_validation_loss = []\n",
        "adam_L2_train_accuracy = []\n",
        "adam_L2_validation_accuracy = []"
      ]
    },
    {
      "cell_type": "code",
      "execution_count": null,
      "metadata": {
        "id": "fGq7VBrIPciT",
        "outputId": "4c427739-ffb3-4ebd-e339-c05b89dde7c1"
      },
      "outputs": [
        {
          "name": "stdout",
          "output_type": "stream",
          "text": [
            "[Started Training with AdaGrad]\n",
            "[Training] Epoch: 0\n",
            "[Training] Loss: 2.2455409614562987, Accuracy: 0.29594\n",
            "[Validation] Epoch: 0\n",
            "[Validation] Loss: 2.1167479110717773, Accuracy: 0.3353\n",
            "[Training] Epoch: 1\n",
            "[Training] Loss: 2.1906189608001707, Accuracy: 0.34328\n",
            "[Validation] Epoch: 1\n",
            "[Validation] Loss: 2.117767768859863, Accuracy: 0.3349\n",
            "[Finished Training with AdaGrad]\n",
            "\n",
            "Total Training Time: 27.95299999997951\n"
          ]
        }
      ],
      "source": [
        "model = BasicNet().to(device)\n",
        "adam_optimizer = optim.Adam(model.parameters(), lr=lr)\n",
        "\n",
        "print(f\"[Started Training with AdaGrad]\")\n",
        "\n",
        "train_time = 0.0\n",
        "for epoch in range(epochs):\n",
        "\n",
        "    # Training Phase\n",
        "    print(f\"[Training] Epoch: {epoch}\")\n",
        "    start = time.monotonic()\n",
        "    train_loss, train_acc = train(model, train_loader, adam_optimizer, device)\n",
        "    end = time.monotonic()\n",
        "    train_time += (end - start)\n",
        "\n",
        "    # Validation Phase\n",
        "    print(f\"[Validation] Epoch: {epoch}\")\n",
        "    val_loss, val_acc = validate(model, val_loader, device)\n",
        "\n",
        "    adam_L2_train_loss.append(train_loss)\n",
        "    adam_L2_validation_loss.append(val_loss)\n",
        "    adam_L2_train_accuracy.append(train_acc)\n",
        "    adam_L2_validation_accuracy.append(val_acc)\n",
        "\n",
        "print(f\"[Finished Training with AdaGrad]\", end=\"\\n\\n\")\n",
        "print(f\"Total Training Time: {train_time}\")"
      ]
    },
    {
      "cell_type": "code",
      "execution_count": null,
      "metadata": {
        "id": "HZY47HrFPciT"
      },
      "outputs": [],
      "source": [
        "adam_L2D_train_loss = []\n",
        "adam_L2D_validation_loss = []\n",
        "adam_L2D_train_accuracy = []\n",
        "adam_L2D_validation_accuracy = []"
      ]
    },
    {
      "cell_type": "code",
      "execution_count": null,
      "metadata": {
        "id": "XMMsn3QoPciT",
        "outputId": "cb197d02-fa1f-40e7-deb5-c9b90c044203"
      },
      "outputs": [
        {
          "name": "stdout",
          "output_type": "stream",
          "text": [
            "[Started Training with AdaGrad]\n",
            "[Training] Epoch: 0\n",
            "[Training] Loss: 2.3499866526794433, Accuracy: 0.2944\n",
            "[Validation] Epoch: 0\n",
            "[Validation] Loss: 2.124327462387085, Accuracy: 0.3253\n",
            "[Training] Epoch: 1\n",
            "[Training] Loss: 2.3181008569335937, Accuracy: 0.3135\n",
            "[Validation] Epoch: 1\n",
            "[Validation] Loss: 2.123547072601318, Accuracy: 0.3283\n",
            "[Finished Training with AdaGrad]\n",
            "\n",
            "Total Training Time: 28.219000000040978\n"
          ]
        }
      ],
      "source": [
        "model = BasicDropoutNet().to(device)\n",
        "adam_optimizer = optim.Adam(model.parameters(), lr=lr)\n",
        "\n",
        "print(f\"[Started Training with AdaGrad]\")\n",
        "\n",
        "train_time = 0.0\n",
        "for epoch in range(epochs):\n",
        "\n",
        "    # Training Phase\n",
        "    print(f\"[Training] Epoch: {epoch}\")\n",
        "    start = time.monotonic()\n",
        "    train_loss, train_acc = train(model, train_loader, adam_optimizer, device)\n",
        "    end = time.monotonic()\n",
        "    train_time += (end - start)\n",
        "\n",
        "    # Validation Phase\n",
        "    print(f\"[Validation] Epoch: {epoch}\")\n",
        "    val_loss, val_acc = validate(model, val_loader, device)\n",
        "\n",
        "    adam_L2D_train_loss.append(train_loss)\n",
        "    adam_L2D_validation_loss.append(val_loss)\n",
        "    adam_L2D_train_accuracy.append(train_acc)\n",
        "    adam_L2D_validation_accuracy.append(val_acc)\n",
        "\n",
        "print(f\"[Finished Training with AdaGrad]\", end=\"\\n\\n\")\n",
        "print(f\"Total Training Time: {train_time}\")"
      ]
    },
    {
      "cell_type": "markdown",
      "metadata": {
        "id": "-e7k46thPciU"
      },
      "source": [
        "# Plots"
      ]
    },
    {
      "cell_type": "code",
      "execution_count": null,
      "metadata": {
        "id": "kPRl9tK3PciU",
        "outputId": "000b9132-4619-4707-c203-4ef414dd4f82"
      },
      "outputs": [
        {
          "name": "stderr",
          "output_type": "stream",
          "text": [
            "No artists with labels found to put in legend.  Note that artists whose label start with an underscore are ignored when legend() is called with no argument.\n"
          ]
        },
        {
          "data": {
            "text/plain": [
              "[<matplotlib.lines.Line2D at 0x2c5ed8e83d0>]"
            ]
          },
          "execution_count": 27,
          "metadata": {},
          "output_type": "execute_result"
        },
        {
          "data": {
            "image/png": "[encoded data removed]",
            "text/plain": [
              "<Figure size 432x288 with 1 Axes>"
            ]
          },
          "metadata": {
            "needs_background": "light"
          },
          "output_type": "display_data"
        }
      ],
      "source": [
        "# Plot L2 train loss vs epochs\n",
        "\n",
        "plt.legend()\n",
        "plt.title(\"Training loss vs Epochs\")\n",
        "plt.xlabel(\"Epochs\")\n",
        "plt.ylabel(\"Train Loss\")\n",
        "\n",
        "plt.plot(range(epochs), adagrad_L2_train_loss, label=\"AdaGrad\")\n",
        "plt.plot(range(epochs), rmsprop_L2_train_loss, label=\"RMSProp\")\n",
        "plt.plot(range(epochs), nadam_L2_train_loss, label=\"Adam+Nesterov\")\n",
        "plt.plot(range(epochs), adadelta_L2_train_loss, label=\"AdaDelta\")\n",
        "plt.plot(range(epochs), adam_L2_train_loss, label=\"Adam\")"
      ]
    },
    {
      "cell_type": "code",
      "execution_count": null,
      "metadata": {
        "id": "8m5WlIyAPciU",
        "outputId": "525926b4-bd55-4586-f2c8-1338aff9fdaa"
      },
      "outputs": [
        {
          "name": "stderr",
          "output_type": "stream",
          "text": [
            "No artists with labels found to put in legend.  Note that artists whose label start with an underscore are ignored when legend() is called with no argument.\n"
          ]
        },
        {
          "data": {
            "text/plain": [
              "[<matplotlib.lines.Line2D at 0x2c593b3a3d0>]"
            ]
          },
          "execution_count": 28,
          "metadata": {},
          "output_type": "execute_result"
        },
        {
          "data": {
            "image/png": "[encoded data removed]",
            "text/plain": [
              "<Figure size 432x288 with 1 Axes>"
            ]
          },
          "metadata": {
            "needs_background": "light"
          },
          "output_type": "display_data"
        }
      ],
      "source": [
        "# Plot L2 + Dropout train loss vs epochs\n",
        "\n",
        "plt.legend()\n",
        "plt.title(\"Training loss vs Epochs\")\n",
        "plt.xlabel(\"Epochs\")\n",
        "plt.ylabel(\"Train Loss\")\n",
        "\n",
        "plt.plot(range(epochs), adagrad_L2D_train_loss, label=\"AdaGrad\")\n",
        "plt.plot(range(epochs), rmsprop_L2D_train_loss, label=\"RMSProp\")\n",
        "plt.plot(range(epochs), nadam_L2D_train_loss, label=\"Adam+Nesterov\")\n",
        "plt.plot(range(epochs), adadelta_L2D_train_loss, label=\"AdaDelta\")\n",
        "plt.plot(range(epochs), adam_L2D_train_loss, label=\"Adam\")"
      ]
    },
    {
      "cell_type": "code",
      "execution_count": null,
      "metadata": {
        "id": "TOTPnkd6PciV",
        "outputId": "adf1d97f-ce15-4fed-c97a-f79b0a2e98c4"
      },
      "outputs": [
        {
          "data": {
            "text/plain": [
              "<matplotlib.legend.Legend at 0x2c5b7c02610>"
            ]
          },
          "execution_count": 32,
          "metadata": {},
          "output_type": "execute_result"
        },
        {
          "data": {
            "image/png": "[encoded data removed]",
            "text/plain": [
              "<Figure size 432x288 with 1 Axes>"
            ]
          },
          "metadata": {
            "needs_background": "light"
          },
          "output_type": "display_data"
        }
      ],
      "source": [
        "# Validation - Plot L2 test accuracy vs epochs\n",
        "\n",
        "\n",
        "plt.title(\"Test Accuracy vs Epochs\")\n",
        "plt.xlabel(\"Epochs\")\n",
        "plt.ylabel(\"Test Accuracy\")\n",
        "\n",
        "plt.plot(range(epochs), adagrad_L2_validation_accuracy, label=\"AdaGrad\")\n",
        "plt.plot(range(epochs), rmsprop_L2_validation_accuracy, label=\"RMSProp\")\n",
        "plt.plot(range(epochs), nadam_L2_validation_accuracy, label=\"Adam+Nesterov\")\n",
        "plt.plot(range(epochs), adadelta_L2_validation_accuracy, label=\"AdaDelta\")\n",
        "plt.plot(range(epochs), adam_L2_validation_accuracy, label=\"Adam\")\n",
        "plt.legend()"
      ]
    },
    {
      "cell_type": "code",
      "execution_count": null,
      "metadata": {
        "id": "9S8jqV-MPciV",
        "outputId": "33fc8b7c-bb76-4883-e9da-61a8a3e9b74d"
      },
      "outputs": [
        {
          "data": {
            "text/plain": [
              "<matplotlib.legend.Legend at 0x2c5a81feac0>"
            ]
          },
          "execution_count": 31,
          "metadata": {},
          "output_type": "execute_result"
        },
        {
          "data": {
            "image/png": "[encoded data removed]",
            "text/plain": [
              "<Figure size 432x288 with 1 Axes>"
            ]
          },
          "metadata": {
            "needs_background": "light"
          },
          "output_type": "display_data"
        }
      ],
      "source": [
        "# Validation - Plot L2 + Dropout test accuracy vs epochs\n",
        "\n",
        "plt.title(\"Test Accuracy vs Epochs\")\n",
        "plt.xlabel(\"Epochs\")\n",
        "plt.ylabel(\"Test Accuracy\")\n",
        "\n",
        "plt.plot(range(epochs), adagrad_L2D_validation_accuracy, label=\"AdaGrad\")\n",
        "plt.plot(range(epochs), rmsprop_L2D_validation_accuracy, label=\"RMSProp\")\n",
        "plt.plot(range(epochs), nadam_L2D_validation_accuracy, label=\"Adam+Nesterov\")\n",
        "plt.plot(range(epochs), adadelta_L2D_validation_accuracy, label=\"AdaDelta\")\n",
        "plt.plot(range(epochs), adam_L2D_validation_accuracy, label=\"Adam\")\n",
        "plt.legend()"
      ]
    },
    {
      "cell_type": "code",
      "execution_count": null,
      "metadata": {
        "id": "UMZIjoytPciV"
      },
      "outputs": [],
      "source": [
        ""
      ]
    }
  ],
  "metadata": {
    "interpreter": {
      "hash": "cd6d8db529fcb6d8412518a5eecbbc3302ab092981e5676bdd98593d89df19c6"
    },
    "kernelspec": {
      "display_name": "Python 3.9.10 ('torch')",
      "language": "python",
      "name": "python3"
    },
    "language_info": {
      "codemirror_mode": {
        "name": "ipython",
        "version": 3
      },
      "file_extension": ".py",
      "mimetype": "text/x-python",
      "name": "python",
      "nbconvert_exporter": "python",
      "pygments_lexer": "ipython3",
      "version": "3.9.10"
    },
    "orig_nbformat": 4,
    "colab": {
      "name": "hw3_amw9425_P4.ipynb",
      "provenance": []
    },
    "accelerator": "GPU"
  },
  "nbformat": 4,
  "nbformat_minor": 0
}